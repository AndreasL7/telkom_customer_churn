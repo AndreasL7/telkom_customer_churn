{
 "cells": [
  {
   "cell_type": "code",
   "execution_count": 1,
   "id": "5f13f3b2-82d7-43fd-b4c6-9e8efe6ef681",
   "metadata": {},
   "outputs": [],
   "source": [
    "import re\n",
    "import joblib\n",
    "from joblib import dump, load\n",
    "\n",
    "import pandas as pd\n",
    "import numpy as np\n",
    "import matplotlib\n",
    "import matplotlib.pyplot as plt\n",
    "\n",
    "import statsmodels.api as sm\n",
    "\n",
    "import sklearn\n",
    "from sklearn.base import (\n",
    "    BaseEstimator, \n",
    "    TransformerMixin\n",
    ")\n",
    "\n",
    "from imblearn.pipeline import Pipeline\n",
    "from imblearn.under_sampling import RandomUnderSampler\n",
    "from imblearn.over_sampling import SMOTE, RandomOverSampler\n",
    "from sklearn.compose import ColumnTransformer\n",
    "\n",
    "from sklearn.preprocessing import (\n",
    "    StandardScaler, \n",
    "    MinMaxScaler, \n",
    "    OrdinalEncoder, \n",
    "    LabelEncoder, \n",
    "    OneHotEncoder,\n",
    "    PolynomialFeatures\n",
    ")\n",
    "\n",
    "from sklearn.feature_selection import (\n",
    "    RFE,\n",
    "    RFECV,\n",
    "    SelectFromModel,\n",
    "    SelectKBest,\n",
    "    SequentialFeatureSelector\n",
    ")\n",
    "\n",
    "from sklearn.model_selection import (\n",
    "    train_test_split,\n",
    "    cross_val_score\n",
    ")\n",
    "\n",
    "from sklearn.svm import SVC\n",
    "\n",
    "import sklearn.metrics as skmet\n",
    "\n",
    "from sklearn.metrics import (\n",
    "    accuracy_score, \n",
    "    precision_score, \n",
    "    recall_score, \n",
    "    f1_score,\n",
    "    fbeta_score,\n",
    "    roc_auc_score,\n",
    "    average_precision_score,\n",
    "    confusion_matrix, \n",
    "    classification_report, \n",
    "    ConfusionMatrixDisplay, \n",
    "    RocCurveDisplay, \n",
    "    precision_recall_curve,\n",
    "    make_scorer\n",
    ")\n",
    "\n",
    "import yellowbrick.model_selection as ms\n",
    "\n",
    "import xgboost\n",
    "from xgboost import XGBClassifier\n",
    "from hyperopt.pyll.base import scope\n",
    "from hyperopt import (\n",
    "    fmin, \n",
    "    tpe, \n",
    "    hp, \n",
    "    STATUS_OK, \n",
    "    Trials\n",
    ")\n",
    "\n",
    "from typing import (\n",
    "    Any, \n",
    "    Dict, \n",
    "    Union, \n",
    "    Sequence\n",
    ")\n",
    "\n",
    "pd.set_option('display.max_columns', None)\n",
    "pd.options.plotting.backend = 'matplotlib'"
   ]
  },
  {
   "cell_type": "code",
   "execution_count": 2,
   "id": "ebd644ae-c403-4bf2-914b-81d7e1ce474d",
   "metadata": {},
   "outputs": [],
   "source": [
    "df = (pd\n",
    "      .read_csv('Telco_customer_churn_adapted_v2.csv')\n",
    "     )"
   ]
  },
  {
   "cell_type": "code",
   "execution_count": 3,
   "id": "2c15b720-49f2-46c7-ba0f-5464f5350edb",
   "metadata": {},
   "outputs": [],
   "source": [
    "def get_var(df, var_name):\n",
    "    globals()[var_name] = df\n",
    "    return df"
   ]
  },
  {
   "cell_type": "markdown",
   "id": "15722ae2-f008-41bd-aa40-ad46b7820a32",
   "metadata": {},
   "source": [
    "<a id='section3'></a>\n",
    "# 3. Dataset Info\n",
    "\n",
    "   #### Source:\n",
    "   https://www.kaggle.com/datasets/0912a4f3cb904b0704b7826a288fd8d95cfa677d2a5589336904d05da33d2638\n",
    "\n",
    "   #### Data Challenge DSW 2023 - Student & Junior Pro\n",
    "   Data Challenge DSW 2023 Students & Junior Professional Category\n",
    "\n",
    "   #### Problem Statement\n",
    "   A telecommunication company wants to analyze its customer’s behavior. Given the following dataset, build a solution that aims to provide meaningful insights to the telecommunication company. The solution can be in the form of an AI model, dashboard, or analysis report. If participants plan to build an AI model, participants are free to decide features, labels, and metrics when building the model. You are expected to propose an innovative solution from the dataset.\n",
    "    \n",
    "   #### Original Source:\n",
    "   https://www.kaggle.com/datasets/yeanzc/telco-customer-churn-ibm-dataset "
   ]
  },
  {
   "cell_type": "markdown",
   "id": "f64c4db6-f838-4e4a-935d-a65ae7606836",
   "metadata": {},
   "source": [
    "   #### Train data:\n",
    "| No. | Features | Description |\n",
    "| :-------- | :-------- | :-------- |\n",
    "| 1. | Customer ID | A unique customer identifier |\n",
    "| 2. | Tenure Months | How long the customer has been with the company by the end of the quarter specified above |\n",
    "| 3. | Location | Customer's residence - City |\n",
    "| 4. | Device Class | Device classification |\n",
    "| 5. | Games Product | Whether the customer uses the internet service for games product |\n",
    "| 6. | Music Product | Whether the customer uses the internet service for music product |\n",
    "| 7. | Education Product | Whether the customer uses the internet service for education product |\n",
    "| 8. | Call Center | Whether the customer uses the call center service |\n",
    "| 9. | Video Product | Whether the customer uses video product service |\n",
    "| 10. | Use MyApp | Whether the customer uses MyApp service |\n",
    "| 11. | Payment Method | The method used for paying the bill |\n",
    "| 12. | Monthly Purchase | Total customer’s monthly spent for all services with the unit of thousands of IDR |\n",
    "| 13. | Churn Label | Whether the customer left the company in this quarter |\n",
    "| 14. | Longitude | Customer’s residence - Longitude |\n",
    "| 15. | Latitude | Customer’s residence - Latitude |\n",
    "| 16. | CLTV | Customer Lifetime Value with the unit of thousands of IDR - Calculated using company's formulas |"
   ]
  },
  {
   "cell_type": "code",
   "execution_count": 4,
   "id": "cde4a6cc-52de-4f23-95e2-93e31ab3037e",
   "metadata": {},
   "outputs": [
    {
     "data": {
      "text/html": [
       "<div>\n",
       "<style scoped>\n",
       "    .dataframe tbody tr th:only-of-type {\n",
       "        vertical-align: middle;\n",
       "    }\n",
       "\n",
       "    .dataframe tbody tr th {\n",
       "        vertical-align: top;\n",
       "    }\n",
       "\n",
       "    .dataframe thead th {\n",
       "        text-align: right;\n",
       "    }\n",
       "</style>\n",
       "<table border=\"1\" class=\"dataframe\">\n",
       "  <thead>\n",
       "    <tr style=\"text-align: right;\">\n",
       "      <th></th>\n",
       "      <th>Customer ID</th>\n",
       "      <th>Tenure Months</th>\n",
       "      <th>Location</th>\n",
       "      <th>Device Class</th>\n",
       "      <th>Games Product</th>\n",
       "      <th>Music Product</th>\n",
       "      <th>Education Product</th>\n",
       "      <th>Call Center</th>\n",
       "      <th>Video Product</th>\n",
       "      <th>Use MyApp</th>\n",
       "      <th>Payment Method</th>\n",
       "      <th>Monthly Purchase (Thou. IDR)</th>\n",
       "      <th>Churn Label</th>\n",
       "      <th>Longitude</th>\n",
       "      <th>Latitude</th>\n",
       "      <th>CLTV (Predicted Thou. IDR)</th>\n",
       "    </tr>\n",
       "  </thead>\n",
       "  <tbody>\n",
       "    <tr>\n",
       "      <th>0</th>\n",
       "      <td>0</td>\n",
       "      <td>2</td>\n",
       "      <td>Jakarta</td>\n",
       "      <td>Mid End</td>\n",
       "      <td>Yes</td>\n",
       "      <td>Yes</td>\n",
       "      <td>No</td>\n",
       "      <td>No</td>\n",
       "      <td>No</td>\n",
       "      <td>No</td>\n",
       "      <td>Digital Wallet</td>\n",
       "      <td>70.005</td>\n",
       "      <td>Yes</td>\n",
       "      <td>106.816666</td>\n",
       "      <td>-6.2</td>\n",
       "      <td>4210.7</td>\n",
       "    </tr>\n",
       "    <tr>\n",
       "      <th>1</th>\n",
       "      <td>1</td>\n",
       "      <td>2</td>\n",
       "      <td>Jakarta</td>\n",
       "      <td>High End</td>\n",
       "      <td>No</td>\n",
       "      <td>No</td>\n",
       "      <td>No</td>\n",
       "      <td>No</td>\n",
       "      <td>No</td>\n",
       "      <td>No</td>\n",
       "      <td>Pulsa</td>\n",
       "      <td>91.910</td>\n",
       "      <td>Yes</td>\n",
       "      <td>106.816666</td>\n",
       "      <td>-6.2</td>\n",
       "      <td>3511.3</td>\n",
       "    </tr>\n",
       "    <tr>\n",
       "      <th>2</th>\n",
       "      <td>2</td>\n",
       "      <td>8</td>\n",
       "      <td>Jakarta</td>\n",
       "      <td>High End</td>\n",
       "      <td>No</td>\n",
       "      <td>No</td>\n",
       "      <td>Yes</td>\n",
       "      <td>No</td>\n",
       "      <td>Yes</td>\n",
       "      <td>Yes</td>\n",
       "      <td>Pulsa</td>\n",
       "      <td>129.545</td>\n",
       "      <td>Yes</td>\n",
       "      <td>106.816666</td>\n",
       "      <td>-6.2</td>\n",
       "      <td>6983.6</td>\n",
       "    </tr>\n",
       "    <tr>\n",
       "      <th>3</th>\n",
       "      <td>3</td>\n",
       "      <td>28</td>\n",
       "      <td>Jakarta</td>\n",
       "      <td>High End</td>\n",
       "      <td>No</td>\n",
       "      <td>No</td>\n",
       "      <td>Yes</td>\n",
       "      <td>Yes</td>\n",
       "      <td>Yes</td>\n",
       "      <td>Yes</td>\n",
       "      <td>Pulsa</td>\n",
       "      <td>136.240</td>\n",
       "      <td>Yes</td>\n",
       "      <td>106.816666</td>\n",
       "      <td>-6.2</td>\n",
       "      <td>6503.9</td>\n",
       "    </tr>\n",
       "    <tr>\n",
       "      <th>4</th>\n",
       "      <td>4</td>\n",
       "      <td>49</td>\n",
       "      <td>Jakarta</td>\n",
       "      <td>High End</td>\n",
       "      <td>No</td>\n",
       "      <td>Yes</td>\n",
       "      <td>Yes</td>\n",
       "      <td>No</td>\n",
       "      <td>Yes</td>\n",
       "      <td>Yes</td>\n",
       "      <td>Debit</td>\n",
       "      <td>134.810</td>\n",
       "      <td>Yes</td>\n",
       "      <td>106.816666</td>\n",
       "      <td>-6.2</td>\n",
       "      <td>6942.0</td>\n",
       "    </tr>\n",
       "  </tbody>\n",
       "</table>\n",
       "</div>"
      ],
      "text/plain": [
       "   Customer ID  Tenure Months Location Device Class Games Product  \\\n",
       "0            0              2  Jakarta      Mid End           Yes   \n",
       "1            1              2  Jakarta     High End            No   \n",
       "2            2              8  Jakarta     High End            No   \n",
       "3            3             28  Jakarta     High End            No   \n",
       "4            4             49  Jakarta     High End            No   \n",
       "\n",
       "  Music Product Education Product Call Center Video Product Use MyApp  \\\n",
       "0           Yes                No          No            No        No   \n",
       "1            No                No          No            No        No   \n",
       "2            No               Yes          No           Yes       Yes   \n",
       "3            No               Yes         Yes           Yes       Yes   \n",
       "4           Yes               Yes          No           Yes       Yes   \n",
       "\n",
       "   Payment Method  Monthly Purchase (Thou. IDR) Churn Label   Longitude  \\\n",
       "0  Digital Wallet                        70.005         Yes  106.816666   \n",
       "1           Pulsa                        91.910         Yes  106.816666   \n",
       "2           Pulsa                       129.545         Yes  106.816666   \n",
       "3           Pulsa                       136.240         Yes  106.816666   \n",
       "4           Debit                       134.810         Yes  106.816666   \n",
       "\n",
       "   Latitude  CLTV (Predicted Thou. IDR)  \n",
       "0      -6.2                      4210.7  \n",
       "1      -6.2                      3511.3  \n",
       "2      -6.2                      6983.6  \n",
       "3      -6.2                      6503.9  \n",
       "4      -6.2                      6942.0  "
      ]
     },
     "execution_count": 4,
     "metadata": {},
     "output_type": "execute_result"
    }
   ],
   "source": [
    "(df\n",
    " .head()\n",
    ")"
   ]
  },
  {
   "cell_type": "code",
   "execution_count": 5,
   "id": "575e4807-acc7-45a0-9431-9129e6bae367",
   "metadata": {},
   "outputs": [
    {
     "name": "stdout",
     "output_type": "stream",
     "text": [
      "<class 'pandas.core.frame.DataFrame'>\n",
      "RangeIndex: 7043 entries, 0 to 7042\n",
      "Data columns (total 16 columns):\n",
      " #   Column                        Non-Null Count  Dtype  \n",
      "---  ------                        --------------  -----  \n",
      " 0   Customer ID                   7043 non-null   int64  \n",
      " 1   Tenure Months                 7043 non-null   int64  \n",
      " 2   Location                      7043 non-null   object \n",
      " 3   Device Class                  7043 non-null   object \n",
      " 4   Games Product                 7043 non-null   object \n",
      " 5   Music Product                 7043 non-null   object \n",
      " 6   Education Product             7043 non-null   object \n",
      " 7   Call Center                   7043 non-null   object \n",
      " 8   Video Product                 7043 non-null   object \n",
      " 9   Use MyApp                     7043 non-null   object \n",
      " 10  Payment Method                7043 non-null   object \n",
      " 11  Monthly Purchase (Thou. IDR)  7043 non-null   float64\n",
      " 12  Churn Label                   7043 non-null   object \n",
      " 13  Longitude                     7043 non-null   float64\n",
      " 14  Latitude                      7043 non-null   float64\n",
      " 15  CLTV (Predicted Thou. IDR)    7043 non-null   float64\n",
      "dtypes: float64(4), int64(2), object(10)\n",
      "memory usage: 880.5+ KB\n"
     ]
    }
   ],
   "source": [
    "(df\n",
    " .info()\n",
    ")"
   ]
  },
  {
   "cell_type": "code",
   "execution_count": 6,
   "id": "b21c44fe-d6d7-4f2e-be1f-0560d51e6310",
   "metadata": {},
   "outputs": [
    {
     "data": {
      "text/html": [
       "<div>\n",
       "<style scoped>\n",
       "    .dataframe tbody tr th:only-of-type {\n",
       "        vertical-align: middle;\n",
       "    }\n",
       "\n",
       "    .dataframe tbody tr th {\n",
       "        vertical-align: top;\n",
       "    }\n",
       "\n",
       "    .dataframe thead th {\n",
       "        text-align: right;\n",
       "    }\n",
       "</style>\n",
       "<table border=\"1\" class=\"dataframe\">\n",
       "  <thead>\n",
       "    <tr style=\"text-align: right;\">\n",
       "      <th></th>\n",
       "      <th>Customer ID</th>\n",
       "      <th>Tenure Months</th>\n",
       "      <th>Monthly Purchase (Thou. IDR)</th>\n",
       "      <th>Longitude</th>\n",
       "      <th>Latitude</th>\n",
       "      <th>CLTV (Predicted Thou. IDR)</th>\n",
       "    </tr>\n",
       "  </thead>\n",
       "  <tbody>\n",
       "    <tr>\n",
       "      <th>count</th>\n",
       "      <td>7043.000000</td>\n",
       "      <td>7043.000000</td>\n",
       "      <td>7043.000000</td>\n",
       "      <td>7043.000000</td>\n",
       "      <td>7043.000000</td>\n",
       "      <td>7043.000000</td>\n",
       "    </tr>\n",
       "    <tr>\n",
       "      <th>mean</th>\n",
       "      <td>3521.000000</td>\n",
       "      <td>32.371149</td>\n",
       "      <td>84.190200</td>\n",
       "      <td>107.043246</td>\n",
       "      <td>-6.404184</td>\n",
       "      <td>5720.384481</td>\n",
       "    </tr>\n",
       "    <tr>\n",
       "      <th>std</th>\n",
       "      <td>2033.283305</td>\n",
       "      <td>24.559481</td>\n",
       "      <td>39.117061</td>\n",
       "      <td>0.358316</td>\n",
       "      <td>0.322898</td>\n",
       "      <td>1537.974298</td>\n",
       "    </tr>\n",
       "    <tr>\n",
       "      <th>min</th>\n",
       "      <td>0.000000</td>\n",
       "      <td>0.000000</td>\n",
       "      <td>23.725000</td>\n",
       "      <td>106.816666</td>\n",
       "      <td>-6.914744</td>\n",
       "      <td>2603.900000</td>\n",
       "    </tr>\n",
       "    <tr>\n",
       "      <th>25%</th>\n",
       "      <td>1760.500000</td>\n",
       "      <td>9.000000</td>\n",
       "      <td>46.150000</td>\n",
       "      <td>106.816666</td>\n",
       "      <td>-6.914744</td>\n",
       "      <td>4509.700000</td>\n",
       "    </tr>\n",
       "    <tr>\n",
       "      <th>50%</th>\n",
       "      <td>3521.000000</td>\n",
       "      <td>29.000000</td>\n",
       "      <td>91.455000</td>\n",
       "      <td>106.816666</td>\n",
       "      <td>-6.200000</td>\n",
       "      <td>5885.100000</td>\n",
       "    </tr>\n",
       "    <tr>\n",
       "      <th>75%</th>\n",
       "      <td>5281.500000</td>\n",
       "      <td>55.000000</td>\n",
       "      <td>116.805000</td>\n",
       "      <td>107.609810</td>\n",
       "      <td>-6.200000</td>\n",
       "      <td>6994.650000</td>\n",
       "    </tr>\n",
       "    <tr>\n",
       "      <th>max</th>\n",
       "      <td>7042.000000</td>\n",
       "      <td>72.000000</td>\n",
       "      <td>154.375000</td>\n",
       "      <td>107.609810</td>\n",
       "      <td>-6.200000</td>\n",
       "      <td>8450.000000</td>\n",
       "    </tr>\n",
       "  </tbody>\n",
       "</table>\n",
       "</div>"
      ],
      "text/plain": [
       "       Customer ID  Tenure Months  Monthly Purchase (Thou. IDR)    Longitude  \\\n",
       "count  7043.000000    7043.000000                   7043.000000  7043.000000   \n",
       "mean   3521.000000      32.371149                     84.190200   107.043246   \n",
       "std    2033.283305      24.559481                     39.117061     0.358316   \n",
       "min       0.000000       0.000000                     23.725000   106.816666   \n",
       "25%    1760.500000       9.000000                     46.150000   106.816666   \n",
       "50%    3521.000000      29.000000                     91.455000   106.816666   \n",
       "75%    5281.500000      55.000000                    116.805000   107.609810   \n",
       "max    7042.000000      72.000000                    154.375000   107.609810   \n",
       "\n",
       "          Latitude  CLTV (Predicted Thou. IDR)  \n",
       "count  7043.000000                 7043.000000  \n",
       "mean     -6.404184                 5720.384481  \n",
       "std       0.322898                 1537.974298  \n",
       "min      -6.914744                 2603.900000  \n",
       "25%      -6.914744                 4509.700000  \n",
       "50%      -6.200000                 5885.100000  \n",
       "75%      -6.200000                 6994.650000  \n",
       "max      -6.200000                 8450.000000  "
      ]
     },
     "execution_count": 6,
     "metadata": {},
     "output_type": "execute_result"
    }
   ],
   "source": [
    "(df\n",
    " .describe()\n",
    ")"
   ]
  },
  {
   "cell_type": "code",
   "execution_count": 7,
   "id": "3c6da0fb-7336-4fc4-b8d3-34c23bbeac8c",
   "metadata": {},
   "outputs": [
    {
     "data": {
      "text/html": [
       "<div>\n",
       "<style scoped>\n",
       "    .dataframe tbody tr th:only-of-type {\n",
       "        vertical-align: middle;\n",
       "    }\n",
       "\n",
       "    .dataframe tbody tr th {\n",
       "        vertical-align: top;\n",
       "    }\n",
       "\n",
       "    .dataframe thead th {\n",
       "        text-align: right;\n",
       "    }\n",
       "</style>\n",
       "<table border=\"1\" class=\"dataframe\">\n",
       "  <thead>\n",
       "    <tr style=\"text-align: right;\">\n",
       "      <th></th>\n",
       "      <th>Customer ID</th>\n",
       "      <th>Tenure Months</th>\n",
       "      <th>Location</th>\n",
       "      <th>Device Class</th>\n",
       "      <th>Games Product</th>\n",
       "      <th>Music Product</th>\n",
       "      <th>Education Product</th>\n",
       "      <th>Call Center</th>\n",
       "      <th>Video Product</th>\n",
       "      <th>Use MyApp</th>\n",
       "      <th>Payment Method</th>\n",
       "      <th>Monthly Purchase (Thou. IDR)</th>\n",
       "      <th>churn_label</th>\n",
       "      <th>Longitude</th>\n",
       "      <th>Latitude</th>\n",
       "      <th>CLTV (Predicted Thou. IDR)</th>\n",
       "    </tr>\n",
       "  </thead>\n",
       "  <tbody>\n",
       "    <tr>\n",
       "      <th>0</th>\n",
       "      <td>0</td>\n",
       "      <td>2</td>\n",
       "      <td>Jakarta</td>\n",
       "      <td>Mid End</td>\n",
       "      <td>Yes</td>\n",
       "      <td>Yes</td>\n",
       "      <td>No</td>\n",
       "      <td>No</td>\n",
       "      <td>No</td>\n",
       "      <td>No</td>\n",
       "      <td>Digital Wallet</td>\n",
       "      <td>70.005</td>\n",
       "      <td>1</td>\n",
       "      <td>106.816666</td>\n",
       "      <td>-6.2</td>\n",
       "      <td>4210.7</td>\n",
       "    </tr>\n",
       "    <tr>\n",
       "      <th>1</th>\n",
       "      <td>1</td>\n",
       "      <td>2</td>\n",
       "      <td>Jakarta</td>\n",
       "      <td>High End</td>\n",
       "      <td>No</td>\n",
       "      <td>No</td>\n",
       "      <td>No</td>\n",
       "      <td>No</td>\n",
       "      <td>No</td>\n",
       "      <td>No</td>\n",
       "      <td>Pulsa</td>\n",
       "      <td>91.910</td>\n",
       "      <td>1</td>\n",
       "      <td>106.816666</td>\n",
       "      <td>-6.2</td>\n",
       "      <td>3511.3</td>\n",
       "    </tr>\n",
       "    <tr>\n",
       "      <th>2</th>\n",
       "      <td>2</td>\n",
       "      <td>8</td>\n",
       "      <td>Jakarta</td>\n",
       "      <td>High End</td>\n",
       "      <td>No</td>\n",
       "      <td>No</td>\n",
       "      <td>Yes</td>\n",
       "      <td>No</td>\n",
       "      <td>Yes</td>\n",
       "      <td>Yes</td>\n",
       "      <td>Pulsa</td>\n",
       "      <td>129.545</td>\n",
       "      <td>1</td>\n",
       "      <td>106.816666</td>\n",
       "      <td>-6.2</td>\n",
       "      <td>6983.6</td>\n",
       "    </tr>\n",
       "    <tr>\n",
       "      <th>3</th>\n",
       "      <td>3</td>\n",
       "      <td>28</td>\n",
       "      <td>Jakarta</td>\n",
       "      <td>High End</td>\n",
       "      <td>No</td>\n",
       "      <td>No</td>\n",
       "      <td>Yes</td>\n",
       "      <td>Yes</td>\n",
       "      <td>Yes</td>\n",
       "      <td>Yes</td>\n",
       "      <td>Pulsa</td>\n",
       "      <td>136.240</td>\n",
       "      <td>1</td>\n",
       "      <td>106.816666</td>\n",
       "      <td>-6.2</td>\n",
       "      <td>6503.9</td>\n",
       "    </tr>\n",
       "    <tr>\n",
       "      <th>4</th>\n",
       "      <td>4</td>\n",
       "      <td>49</td>\n",
       "      <td>Jakarta</td>\n",
       "      <td>High End</td>\n",
       "      <td>No</td>\n",
       "      <td>Yes</td>\n",
       "      <td>Yes</td>\n",
       "      <td>No</td>\n",
       "      <td>Yes</td>\n",
       "      <td>Yes</td>\n",
       "      <td>Debit</td>\n",
       "      <td>134.810</td>\n",
       "      <td>1</td>\n",
       "      <td>106.816666</td>\n",
       "      <td>-6.2</td>\n",
       "      <td>6942.0</td>\n",
       "    </tr>\n",
       "    <tr>\n",
       "      <th>...</th>\n",
       "      <td>...</td>\n",
       "      <td>...</td>\n",
       "      <td>...</td>\n",
       "      <td>...</td>\n",
       "      <td>...</td>\n",
       "      <td>...</td>\n",
       "      <td>...</td>\n",
       "      <td>...</td>\n",
       "      <td>...</td>\n",
       "      <td>...</td>\n",
       "      <td>...</td>\n",
       "      <td>...</td>\n",
       "      <td>...</td>\n",
       "      <td>...</td>\n",
       "      <td>...</td>\n",
       "      <td>...</td>\n",
       "    </tr>\n",
       "    <tr>\n",
       "      <th>7038</th>\n",
       "      <td>7038</td>\n",
       "      <td>72</td>\n",
       "      <td>Jakarta</td>\n",
       "      <td>Low End</td>\n",
       "      <td>No internet service</td>\n",
       "      <td>No internet service</td>\n",
       "      <td>No internet service</td>\n",
       "      <td>No</td>\n",
       "      <td>No internet service</td>\n",
       "      <td>No internet service</td>\n",
       "      <td>Debit</td>\n",
       "      <td>27.495</td>\n",
       "      <td>0</td>\n",
       "      <td>106.816666</td>\n",
       "      <td>-6.2</td>\n",
       "      <td>6897.8</td>\n",
       "    </tr>\n",
       "    <tr>\n",
       "      <th>7039</th>\n",
       "      <td>7039</td>\n",
       "      <td>24</td>\n",
       "      <td>Jakarta</td>\n",
       "      <td>Mid End</td>\n",
       "      <td>Yes</td>\n",
       "      <td>No</td>\n",
       "      <td>Yes</td>\n",
       "      <td>Yes</td>\n",
       "      <td>Yes</td>\n",
       "      <td>Yes</td>\n",
       "      <td>Digital Wallet</td>\n",
       "      <td>110.240</td>\n",
       "      <td>0</td>\n",
       "      <td>106.816666</td>\n",
       "      <td>-6.2</td>\n",
       "      <td>2782.0</td>\n",
       "    </tr>\n",
       "    <tr>\n",
       "      <th>7040</th>\n",
       "      <td>7040</td>\n",
       "      <td>72</td>\n",
       "      <td>Jakarta</td>\n",
       "      <td>High End</td>\n",
       "      <td>No</td>\n",
       "      <td>Yes</td>\n",
       "      <td>Yes</td>\n",
       "      <td>No</td>\n",
       "      <td>Yes</td>\n",
       "      <td>Yes</td>\n",
       "      <td>Credit</td>\n",
       "      <td>134.160</td>\n",
       "      <td>0</td>\n",
       "      <td>106.816666</td>\n",
       "      <td>-6.2</td>\n",
       "      <td>7228.0</td>\n",
       "    </tr>\n",
       "    <tr>\n",
       "      <th>7041</th>\n",
       "      <td>7041</td>\n",
       "      <td>11</td>\n",
       "      <td>Jakarta</td>\n",
       "      <td>Mid End</td>\n",
       "      <td>Yes</td>\n",
       "      <td>No</td>\n",
       "      <td>No</td>\n",
       "      <td>No</td>\n",
       "      <td>No</td>\n",
       "      <td>No</td>\n",
       "      <td>Pulsa</td>\n",
       "      <td>38.480</td>\n",
       "      <td>0</td>\n",
       "      <td>106.816666</td>\n",
       "      <td>-6.2</td>\n",
       "      <td>3630.9</td>\n",
       "    </tr>\n",
       "    <tr>\n",
       "      <th>7042</th>\n",
       "      <td>7042</td>\n",
       "      <td>66</td>\n",
       "      <td>Jakarta</td>\n",
       "      <td>High End</td>\n",
       "      <td>Yes</td>\n",
       "      <td>No</td>\n",
       "      <td>Yes</td>\n",
       "      <td>Yes</td>\n",
       "      <td>Yes</td>\n",
       "      <td>Yes</td>\n",
       "      <td>Debit</td>\n",
       "      <td>137.345</td>\n",
       "      <td>0</td>\n",
       "      <td>106.816666</td>\n",
       "      <td>-6.2</td>\n",
       "      <td>6626.1</td>\n",
       "    </tr>\n",
       "  </tbody>\n",
       "</table>\n",
       "<p>7043 rows × 16 columns</p>\n",
       "</div>"
      ],
      "text/plain": [
       "      Customer ID  Tenure Months Location Device Class        Games Product  \\\n",
       "0               0              2  Jakarta      Mid End                  Yes   \n",
       "1               1              2  Jakarta     High End                   No   \n",
       "2               2              8  Jakarta     High End                   No   \n",
       "3               3             28  Jakarta     High End                   No   \n",
       "4               4             49  Jakarta     High End                   No   \n",
       "...           ...            ...      ...          ...                  ...   \n",
       "7038         7038             72  Jakarta      Low End  No internet service   \n",
       "7039         7039             24  Jakarta      Mid End                  Yes   \n",
       "7040         7040             72  Jakarta     High End                   No   \n",
       "7041         7041             11  Jakarta      Mid End                  Yes   \n",
       "7042         7042             66  Jakarta     High End                  Yes   \n",
       "\n",
       "            Music Product    Education Product Call Center  \\\n",
       "0                     Yes                   No          No   \n",
       "1                      No                   No          No   \n",
       "2                      No                  Yes          No   \n",
       "3                      No                  Yes         Yes   \n",
       "4                     Yes                  Yes          No   \n",
       "...                   ...                  ...         ...   \n",
       "7038  No internet service  No internet service          No   \n",
       "7039                   No                  Yes         Yes   \n",
       "7040                  Yes                  Yes          No   \n",
       "7041                   No                   No          No   \n",
       "7042                   No                  Yes         Yes   \n",
       "\n",
       "            Video Product            Use MyApp  Payment Method  \\\n",
       "0                      No                   No  Digital Wallet   \n",
       "1                      No                   No           Pulsa   \n",
       "2                     Yes                  Yes           Pulsa   \n",
       "3                     Yes                  Yes           Pulsa   \n",
       "4                     Yes                  Yes           Debit   \n",
       "...                   ...                  ...             ...   \n",
       "7038  No internet service  No internet service           Debit   \n",
       "7039                  Yes                  Yes  Digital Wallet   \n",
       "7040                  Yes                  Yes          Credit   \n",
       "7041                   No                   No           Pulsa   \n",
       "7042                  Yes                  Yes           Debit   \n",
       "\n",
       "      Monthly Purchase (Thou. IDR)  churn_label   Longitude  Latitude  \\\n",
       "0                           70.005            1  106.816666      -6.2   \n",
       "1                           91.910            1  106.816666      -6.2   \n",
       "2                          129.545            1  106.816666      -6.2   \n",
       "3                          136.240            1  106.816666      -6.2   \n",
       "4                          134.810            1  106.816666      -6.2   \n",
       "...                            ...          ...         ...       ...   \n",
       "7038                        27.495            0  106.816666      -6.2   \n",
       "7039                       110.240            0  106.816666      -6.2   \n",
       "7040                       134.160            0  106.816666      -6.2   \n",
       "7041                        38.480            0  106.816666      -6.2   \n",
       "7042                       137.345            0  106.816666      -6.2   \n",
       "\n",
       "      CLTV (Predicted Thou. IDR)  \n",
       "0                         4210.7  \n",
       "1                         3511.3  \n",
       "2                         6983.6  \n",
       "3                         6503.9  \n",
       "4                         6942.0  \n",
       "...                          ...  \n",
       "7038                      6897.8  \n",
       "7039                      2782.0  \n",
       "7040                      7228.0  \n",
       "7041                      3630.9  \n",
       "7042                      6626.1  \n",
       "\n",
       "[7043 rows x 16 columns]"
      ]
     },
     "execution_count": 7,
     "metadata": {},
     "output_type": "execute_result"
    }
   ],
   "source": [
    "label_encoder = LabelEncoder()\n",
    "df = (df\n",
    "      .rename(columns={'Churn Label': 'churn_label'})\n",
    "      .assign(churn_label=lambda df_: label_encoder.fit_transform(df_.churn_label))\n",
    "      .astype({'churn_label': 'int8'})\n",
    "     )\n",
    "df"
   ]
  },
  {
   "cell_type": "code",
   "execution_count": 8,
   "id": "4e4e5dfc-ea7a-4cfc-9b38-efbea38d7d2d",
   "metadata": {},
   "outputs": [],
   "source": [
    "X_train, X_test, y_train, y_test = train_test_split(df.drop(columns=['Customer ID', 'Longitude', 'Latitude', 'churn_label']),\n",
    "                                                    df[['churn_label']].values.ravel(),\n",
    "                                                    test_size=0.2,\n",
    "                                                    stratify=df[['churn_label']].values.ravel(),\n",
    "                                                    random_state=42)"
   ]
  },
  {
   "cell_type": "code",
   "execution_count": 9,
   "id": "91b526da-e63a-4154-be7e-e7197e7843fa",
   "metadata": {},
   "outputs": [],
   "source": [
    "class TweakCustomerChurn(BaseEstimator, TransformerMixin):\n",
    "    \n",
    "    def fit(self, X, y=None):\n",
    "        return self\n",
    "\n",
    "    def transform(self, X, y=None):\n",
    "\n",
    "        digital_product_cols = ['games_product', 'music_product', 'education_product', 'video_product']\n",
    "        all_product_cols = ['games_product', 'music_product', 'education_product', 'video_product', 'call_center', 'use_myapp']\n",
    "        \n",
    "        return (X\n",
    "                .rename(columns=lambda col: re.compile(r'[^a-zA-Z0-9_]+').sub('_', col.lower()))\n",
    "                .assign(tenure_segmentation=lambda df_: np.where(df_.tenure_months < 4, \"low\", np.where(df_.tenure_months < 12, \"medium\", \"high\")),\n",
    "                        any_digital_product=lambda df_: np.where((df_.games_product == \"Yes\") | (df_.music_product == \"Yes\") | (df_.education_product == \"Yes\") | (df_.video_product == \"Yes\"), 1, 0),\n",
    "                        all_digital_product=lambda df_: np.where((df_.games_product == \"Yes\") & (df_.music_product == \"Yes\") & (df_.education_product == \"Yes\") & (df_.video_product == \"Yes\"), 1, 0),\n",
    "                        total_digital_product_used=lambda df_: df_[digital_product_cols].apply(lambda row: sum(row == 'Yes'), axis=1),\n",
    "                        total_product_utilisation=lambda df_: df_[all_product_cols].apply(lambda row: sum(row == 'Yes'), axis=1),\n",
    "                        total_spending=lambda df_: df_.tenure_months.mul(df_.monthly_purchase_thou_idr_),\n",
    "                        net_cltv_total_spending=lambda df_: df_.cltv_predicted_thou_idr_.sub(df_.total_spending)\n",
    "                        # spending_per_tenure=lambda df_: df_.monthly_purchase_thou_idr_.div(df_.tenure_months),\n",
    "                        # cltv_monthly_purchase_ratio=lambda df_: df_.cltv_predicted_thou_idr_.div(df_.monthly_purchase_thou_idr_),\n",
    "                        ) #tbc\n",
    "                .astype({**{k: \"int8\"\n",
    "                            for k in [\"tenure_months\", \"any_digital_product\", \"all_digital_product\", \"total_digital_product_used\", \"total_product_utilisation\"]},\n",
    "                         **{k: \"float16\"\n",
    "                            for k in [\"monthly_purchase_thou_idr_\", \"cltv_predicted_thou_idr_\", \"total_spending\", \"net_cltv_total_spending\"]},\n",
    "                         **{k: \"category\"\n",
    "                            for k in [\"tenure_segmentation\", \"location\", \"device_class\", \"games_product\", \"music_product\", \"education_product\", \"call_center\", \"video_product\", \"use_myapp\", \"payment_method\"]}})\n",
    "                .reindex(columns=[\"tenure_months\", \"tenure_segmentation\", \"location\", \"device_class\", \"games_product\", \"music_product\", \"education_product\", \"video_product\", \"any_digital_product\", \"all_digital_product\", \"total_digital_product_used\", \"call_center\", \"use_myapp\", \"total_product_utilisation\", \"payment_method\", \"monthly_purchase_thou_idr_\", \"cltv_predicted_thou_idr_\", \"total_spending\", \"net_cltv_total_spending\"])\n",
    "               )"
   ]
  },
  {
   "cell_type": "code",
   "execution_count": 10,
   "id": "aa0a8ac1-fe14-4f06-9e88-0fb003825b94",
   "metadata": {},
   "outputs": [
    {
     "data": {
      "text/html": [
       "<div>\n",
       "<style scoped>\n",
       "    .dataframe tbody tr th:only-of-type {\n",
       "        vertical-align: middle;\n",
       "    }\n",
       "\n",
       "    .dataframe tbody tr th {\n",
       "        vertical-align: top;\n",
       "    }\n",
       "\n",
       "    .dataframe thead th {\n",
       "        text-align: right;\n",
       "    }\n",
       "</style>\n",
       "<table border=\"1\" class=\"dataframe\">\n",
       "  <thead>\n",
       "    <tr style=\"text-align: right;\">\n",
       "      <th></th>\n",
       "      <th>tenure_months</th>\n",
       "      <th>tenure_segmentation</th>\n",
       "      <th>location</th>\n",
       "      <th>device_class</th>\n",
       "      <th>games_product</th>\n",
       "      <th>music_product</th>\n",
       "      <th>education_product</th>\n",
       "      <th>video_product</th>\n",
       "      <th>any_digital_product</th>\n",
       "      <th>all_digital_product</th>\n",
       "      <th>total_digital_product_used</th>\n",
       "      <th>call_center</th>\n",
       "      <th>use_myapp</th>\n",
       "      <th>total_product_utilisation</th>\n",
       "      <th>payment_method</th>\n",
       "      <th>monthly_purchase_thou_idr_</th>\n",
       "      <th>cltv_predicted_thou_idr_</th>\n",
       "      <th>total_spending</th>\n",
       "      <th>net_cltv_total_spending</th>\n",
       "    </tr>\n",
       "  </thead>\n",
       "  <tbody>\n",
       "    <tr>\n",
       "      <th>4626</th>\n",
       "      <td>35</td>\n",
       "      <td>high</td>\n",
       "      <td>Jakarta</td>\n",
       "      <td>Mid End</td>\n",
       "      <td>No</td>\n",
       "      <td>No</td>\n",
       "      <td>Yes</td>\n",
       "      <td>Yes</td>\n",
       "      <td>1</td>\n",
       "      <td>0</td>\n",
       "      <td>2</td>\n",
       "      <td>No</td>\n",
       "      <td>Yes</td>\n",
       "      <td>3</td>\n",
       "      <td>Pulsa</td>\n",
       "      <td>63.968750</td>\n",
       "      <td>3616.0</td>\n",
       "      <td>2238.00000</td>\n",
       "      <td>1378.0</td>\n",
       "    </tr>\n",
       "    <tr>\n",
       "      <th>4192</th>\n",
       "      <td>15</td>\n",
       "      <td>high</td>\n",
       "      <td>Jakarta</td>\n",
       "      <td>High End</td>\n",
       "      <td>Yes</td>\n",
       "      <td>No</td>\n",
       "      <td>No</td>\n",
       "      <td>No</td>\n",
       "      <td>1</td>\n",
       "      <td>0</td>\n",
       "      <td>1</td>\n",
       "      <td>No</td>\n",
       "      <td>No</td>\n",
       "      <td>1</td>\n",
       "      <td>Digital Wallet</td>\n",
       "      <td>97.625000</td>\n",
       "      <td>6024.0</td>\n",
       "      <td>1464.00000</td>\n",
       "      <td>4560.0</td>\n",
       "    </tr>\n",
       "    <tr>\n",
       "      <th>5457</th>\n",
       "      <td>13</td>\n",
       "      <td>high</td>\n",
       "      <td>Bandung</td>\n",
       "      <td>Mid End</td>\n",
       "      <td>Yes</td>\n",
       "      <td>Yes</td>\n",
       "      <td>No</td>\n",
       "      <td>No</td>\n",
       "      <td>1</td>\n",
       "      <td>0</td>\n",
       "      <td>2</td>\n",
       "      <td>Yes</td>\n",
       "      <td>No</td>\n",
       "      <td>3</td>\n",
       "      <td>Digital Wallet</td>\n",
       "      <td>52.718750</td>\n",
       "      <td>3768.0</td>\n",
       "      <td>685.50000</td>\n",
       "      <td>3082.0</td>\n",
       "    </tr>\n",
       "    <tr>\n",
       "      <th>4717</th>\n",
       "      <td>26</td>\n",
       "      <td>high</td>\n",
       "      <td>Jakarta</td>\n",
       "      <td>Mid End</td>\n",
       "      <td>No</td>\n",
       "      <td>Yes</td>\n",
       "      <td>Yes</td>\n",
       "      <td>Yes</td>\n",
       "      <td>1</td>\n",
       "      <td>0</td>\n",
       "      <td>3</td>\n",
       "      <td>No</td>\n",
       "      <td>Yes</td>\n",
       "      <td>4</td>\n",
       "      <td>Credit</td>\n",
       "      <td>95.562500</td>\n",
       "      <td>4676.0</td>\n",
       "      <td>2484.00000</td>\n",
       "      <td>2190.0</td>\n",
       "    </tr>\n",
       "    <tr>\n",
       "      <th>4673</th>\n",
       "      <td>1</td>\n",
       "      <td>low</td>\n",
       "      <td>Jakarta</td>\n",
       "      <td>Mid End</td>\n",
       "      <td>No</td>\n",
       "      <td>No</td>\n",
       "      <td>No</td>\n",
       "      <td>No</td>\n",
       "      <td>0</td>\n",
       "      <td>0</td>\n",
       "      <td>0</td>\n",
       "      <td>No</td>\n",
       "      <td>No</td>\n",
       "      <td>0</td>\n",
       "      <td>Pulsa</td>\n",
       "      <td>57.906250</td>\n",
       "      <td>4432.0</td>\n",
       "      <td>57.90625</td>\n",
       "      <td>4372.0</td>\n",
       "    </tr>\n",
       "    <tr>\n",
       "      <th>...</th>\n",
       "      <td>...</td>\n",
       "      <td>...</td>\n",
       "      <td>...</td>\n",
       "      <td>...</td>\n",
       "      <td>...</td>\n",
       "      <td>...</td>\n",
       "      <td>...</td>\n",
       "      <td>...</td>\n",
       "      <td>...</td>\n",
       "      <td>...</td>\n",
       "      <td>...</td>\n",
       "      <td>...</td>\n",
       "      <td>...</td>\n",
       "      <td>...</td>\n",
       "      <td>...</td>\n",
       "      <td>...</td>\n",
       "      <td>...</td>\n",
       "      <td>...</td>\n",
       "      <td>...</td>\n",
       "    </tr>\n",
       "    <tr>\n",
       "      <th>6507</th>\n",
       "      <td>71</td>\n",
       "      <td>high</td>\n",
       "      <td>Jakarta</td>\n",
       "      <td>High End</td>\n",
       "      <td>No</td>\n",
       "      <td>Yes</td>\n",
       "      <td>Yes</td>\n",
       "      <td>Yes</td>\n",
       "      <td>1</td>\n",
       "      <td>0</td>\n",
       "      <td>3</td>\n",
       "      <td>Yes</td>\n",
       "      <td>Yes</td>\n",
       "      <td>5</td>\n",
       "      <td>Pulsa</td>\n",
       "      <td>142.000000</td>\n",
       "      <td>6556.0</td>\n",
       "      <td>10080.00000</td>\n",
       "      <td>-3526.0</td>\n",
       "    </tr>\n",
       "    <tr>\n",
       "      <th>1646</th>\n",
       "      <td>2</td>\n",
       "      <td>low</td>\n",
       "      <td>Jakarta</td>\n",
       "      <td>Mid End</td>\n",
       "      <td>No</td>\n",
       "      <td>No</td>\n",
       "      <td>No</td>\n",
       "      <td>No</td>\n",
       "      <td>0</td>\n",
       "      <td>0</td>\n",
       "      <td>0</td>\n",
       "      <td>No</td>\n",
       "      <td>No</td>\n",
       "      <td>0</td>\n",
       "      <td>Debit</td>\n",
       "      <td>59.875000</td>\n",
       "      <td>6060.0</td>\n",
       "      <td>119.75000</td>\n",
       "      <td>5940.0</td>\n",
       "    </tr>\n",
       "    <tr>\n",
       "      <th>1222</th>\n",
       "      <td>25</td>\n",
       "      <td>high</td>\n",
       "      <td>Jakarta</td>\n",
       "      <td>High End</td>\n",
       "      <td>Yes</td>\n",
       "      <td>Yes</td>\n",
       "      <td>No</td>\n",
       "      <td>Yes</td>\n",
       "      <td>1</td>\n",
       "      <td>0</td>\n",
       "      <td>3</td>\n",
       "      <td>No</td>\n",
       "      <td>Yes</td>\n",
       "      <td>4</td>\n",
       "      <td>Digital Wallet</td>\n",
       "      <td>133.625000</td>\n",
       "      <td>6460.0</td>\n",
       "      <td>3340.00000</td>\n",
       "      <td>3118.0</td>\n",
       "    </tr>\n",
       "    <tr>\n",
       "      <th>3870</th>\n",
       "      <td>24</td>\n",
       "      <td>high</td>\n",
       "      <td>Bandung</td>\n",
       "      <td>Low End</td>\n",
       "      <td>No internet service</td>\n",
       "      <td>No internet service</td>\n",
       "      <td>No internet service</td>\n",
       "      <td>No internet service</td>\n",
       "      <td>0</td>\n",
       "      <td>0</td>\n",
       "      <td>0</td>\n",
       "      <td>No</td>\n",
       "      <td>No internet service</td>\n",
       "      <td>0</td>\n",
       "      <td>Credit</td>\n",
       "      <td>26.515625</td>\n",
       "      <td>3992.0</td>\n",
       "      <td>636.50000</td>\n",
       "      <td>3356.0</td>\n",
       "    </tr>\n",
       "    <tr>\n",
       "      <th>6017</th>\n",
       "      <td>6</td>\n",
       "      <td>medium</td>\n",
       "      <td>Jakarta</td>\n",
       "      <td>Low End</td>\n",
       "      <td>No internet service</td>\n",
       "      <td>No internet service</td>\n",
       "      <td>No internet service</td>\n",
       "      <td>No internet service</td>\n",
       "      <td>0</td>\n",
       "      <td>0</td>\n",
       "      <td>0</td>\n",
       "      <td>No</td>\n",
       "      <td>No internet service</td>\n",
       "      <td>0</td>\n",
       "      <td>Digital Wallet</td>\n",
       "      <td>26.843750</td>\n",
       "      <td>4244.0</td>\n",
       "      <td>161.12500</td>\n",
       "      <td>4084.0</td>\n",
       "    </tr>\n",
       "  </tbody>\n",
       "</table>\n",
       "<p>5634 rows × 19 columns</p>\n",
       "</div>"
      ],
      "text/plain": [
       "      tenure_months tenure_segmentation location device_class  \\\n",
       "4626             35                high  Jakarta      Mid End   \n",
       "4192             15                high  Jakarta     High End   \n",
       "5457             13                high  Bandung      Mid End   \n",
       "4717             26                high  Jakarta      Mid End   \n",
       "4673              1                 low  Jakarta      Mid End   \n",
       "...             ...                 ...      ...          ...   \n",
       "6507             71                high  Jakarta     High End   \n",
       "1646              2                 low  Jakarta      Mid End   \n",
       "1222             25                high  Jakarta     High End   \n",
       "3870             24                high  Bandung      Low End   \n",
       "6017              6              medium  Jakarta      Low End   \n",
       "\n",
       "            games_product        music_product    education_product  \\\n",
       "4626                   No                   No                  Yes   \n",
       "4192                  Yes                   No                   No   \n",
       "5457                  Yes                  Yes                   No   \n",
       "4717                   No                  Yes                  Yes   \n",
       "4673                   No                   No                   No   \n",
       "...                   ...                  ...                  ...   \n",
       "6507                   No                  Yes                  Yes   \n",
       "1646                   No                   No                   No   \n",
       "1222                  Yes                  Yes                   No   \n",
       "3870  No internet service  No internet service  No internet service   \n",
       "6017  No internet service  No internet service  No internet service   \n",
       "\n",
       "            video_product  any_digital_product  all_digital_product  \\\n",
       "4626                  Yes                    1                    0   \n",
       "4192                   No                    1                    0   \n",
       "5457                   No                    1                    0   \n",
       "4717                  Yes                    1                    0   \n",
       "4673                   No                    0                    0   \n",
       "...                   ...                  ...                  ...   \n",
       "6507                  Yes                    1                    0   \n",
       "1646                   No                    0                    0   \n",
       "1222                  Yes                    1                    0   \n",
       "3870  No internet service                    0                    0   \n",
       "6017  No internet service                    0                    0   \n",
       "\n",
       "      total_digital_product_used call_center            use_myapp  \\\n",
       "4626                           2          No                  Yes   \n",
       "4192                           1          No                   No   \n",
       "5457                           2         Yes                   No   \n",
       "4717                           3          No                  Yes   \n",
       "4673                           0          No                   No   \n",
       "...                          ...         ...                  ...   \n",
       "6507                           3         Yes                  Yes   \n",
       "1646                           0          No                   No   \n",
       "1222                           3          No                  Yes   \n",
       "3870                           0          No  No internet service   \n",
       "6017                           0          No  No internet service   \n",
       "\n",
       "      total_product_utilisation  payment_method  monthly_purchase_thou_idr_  \\\n",
       "4626                          3           Pulsa                   63.968750   \n",
       "4192                          1  Digital Wallet                   97.625000   \n",
       "5457                          3  Digital Wallet                   52.718750   \n",
       "4717                          4          Credit                   95.562500   \n",
       "4673                          0           Pulsa                   57.906250   \n",
       "...                         ...             ...                         ...   \n",
       "6507                          5           Pulsa                  142.000000   \n",
       "1646                          0           Debit                   59.875000   \n",
       "1222                          4  Digital Wallet                  133.625000   \n",
       "3870                          0          Credit                   26.515625   \n",
       "6017                          0  Digital Wallet                   26.843750   \n",
       "\n",
       "      cltv_predicted_thou_idr_  total_spending  net_cltv_total_spending  \n",
       "4626                    3616.0      2238.00000                   1378.0  \n",
       "4192                    6024.0      1464.00000                   4560.0  \n",
       "5457                    3768.0       685.50000                   3082.0  \n",
       "4717                    4676.0      2484.00000                   2190.0  \n",
       "4673                    4432.0        57.90625                   4372.0  \n",
       "...                        ...             ...                      ...  \n",
       "6507                    6556.0     10080.00000                  -3526.0  \n",
       "1646                    6060.0       119.75000                   5940.0  \n",
       "1222                    6460.0      3340.00000                   3118.0  \n",
       "3870                    3992.0       636.50000                   3356.0  \n",
       "6017                    4244.0       161.12500                   4084.0  \n",
       "\n",
       "[5634 rows x 19 columns]"
      ]
     },
     "execution_count": 10,
     "metadata": {},
     "output_type": "execute_result"
    }
   ],
   "source": [
    "(TweakCustomerChurn()\n",
    " .transform(X_train)\n",
    ")"
   ]
  },
  {
   "cell_type": "code",
   "execution_count": 11,
   "id": "43a0a3c3-1e1b-4ca7-bd71-040a19888d9c",
   "metadata": {},
   "outputs": [
    {
     "name": "stdout",
     "output_type": "stream",
     "text": [
      "<class 'pandas.core.frame.DataFrame'>\n",
      "RangeIndex: 7043 entries, 0 to 7042\n",
      "Data columns (total 19 columns):\n",
      " #   Column                      Non-Null Count  Dtype   \n",
      "---  ------                      --------------  -----   \n",
      " 0   tenure_months               7043 non-null   int8    \n",
      " 1   tenure_segmentation         7043 non-null   category\n",
      " 2   location                    7043 non-null   category\n",
      " 3   device_class                7043 non-null   category\n",
      " 4   games_product               7043 non-null   category\n",
      " 5   music_product               7043 non-null   category\n",
      " 6   education_product           7043 non-null   category\n",
      " 7   video_product               7043 non-null   category\n",
      " 8   any_digital_product         7043 non-null   int8    \n",
      " 9   all_digital_product         7043 non-null   int8    \n",
      " 10  total_digital_product_used  7043 non-null   int8    \n",
      " 11  call_center                 7043 non-null   category\n",
      " 12  use_myapp                   7043 non-null   category\n",
      " 13  total_product_utilisation   7043 non-null   int8    \n",
      " 14  payment_method              7043 non-null   category\n",
      " 15  monthly_purchase_thou_idr_  7043 non-null   float16 \n",
      " 16  cltv_predicted_thou_idr_    7043 non-null   float16 \n",
      " 17  total_spending              7043 non-null   float16 \n",
      " 18  net_cltv_total_spending     7043 non-null   float16 \n",
      "dtypes: category(10), float16(4), int8(5)\n",
      "memory usage: 159.7 KB\n"
     ]
    }
   ],
   "source": [
    "(TweakCustomerChurn()\n",
    " .transform(df)\n",
    " .info()\n",
    ")"
   ]
  },
  {
   "cell_type": "code",
   "execution_count": 12,
   "id": "6032d4aa-834d-492e-b2f2-75b939b93954",
   "metadata": {},
   "outputs": [],
   "source": [
    "standard_numerical_features = ['monthly_purchase_thou_idr_', 'cltv_predicted_thou_idr_', 'total_spending', 'net_cltv_total_spending']\n",
    "standard_numerical_transformer = Pipeline(steps=[\n",
    "    ('scale', StandardScaler())\n",
    "])\n",
    "\n",
    "ohe_categorical_features = ['location', 'device_class', 'games_product', 'music_product', 'education_product', 'video_product', 'call_center', 'use_myapp', 'payment_method']\n",
    "ohe_categorical_transformer = Pipeline(steps=[\n",
    "    ('ohe', OneHotEncoder(handle_unknown='ignore', sparse_output=False, drop='first'))\n",
    "])\n",
    "\n",
    "orde_categorical_features = ['tenure_segmentation']\n",
    "orde_categorical_transformer = Pipeline(steps=[\n",
    "    ('orde', OrdinalEncoder(dtype='float'))\n",
    "])\n",
    "\n",
    "col_trans = ColumnTransformer(\n",
    "    transformers=[\n",
    "        ('standard_numerical_features', standard_numerical_transformer, standard_numerical_features),\n",
    "        ('ohe_categorical_features', ohe_categorical_transformer, ohe_categorical_features),\n",
    "        ('orde_categorical_features', orde_categorical_transformer, orde_categorical_features),\n",
    "    ], \n",
    "    remainder='passthrough', \n",
    "    verbose=0, \n",
    "    verbose_feature_names_out=False,)"
   ]
  },
  {
   "cell_type": "markdown",
   "id": "267f3a5a-e55c-4975-be20-b8f4fdd5b66e",
   "metadata": {},
   "source": [
    "### OOB Model"
   ]
  },
  {
   "cell_type": "code",
   "execution_count": 13,
   "id": "99692456-c5d8-4073-8a0e-76a33d7c6d2d",
   "metadata": {},
   "outputs": [],
   "source": [
    "pipeline_oob_xgb = Pipeline(steps = [\n",
    "       ('tweak_customer_churn', TweakCustomerChurn()),\n",
    "       ('col_trans', col_trans),\n",
    "])"
   ]
  },
  {
   "cell_type": "code",
   "execution_count": 14,
   "id": "8c67f314-3315-474d-9eee-9a8ac815b330",
   "metadata": {},
   "outputs": [],
   "source": [
    "rus = RandomUnderSampler(random_state=42)\n",
    "X_train, y_train = rus.fit_resample(pipeline_oob_xgb.fit_transform(X_train, y_train), y_train)"
   ]
  },
  {
   "cell_type": "code",
   "execution_count": 15,
   "id": "fe9033b1-4e7f-4253-b4bd-00e9c226ea69",
   "metadata": {},
   "outputs": [
    {
     "data": {
      "text/html": [
       "<style>#sk-container-id-1 {color: black;background-color: white;}#sk-container-id-1 pre{padding: 0;}#sk-container-id-1 div.sk-toggleable {background-color: white;}#sk-container-id-1 label.sk-toggleable__label {cursor: pointer;display: block;width: 100%;margin-bottom: 0;padding: 0.3em;box-sizing: border-box;text-align: center;}#sk-container-id-1 label.sk-toggleable__label-arrow:before {content: \"▸\";float: left;margin-right: 0.25em;color: #696969;}#sk-container-id-1 label.sk-toggleable__label-arrow:hover:before {color: black;}#sk-container-id-1 div.sk-estimator:hover label.sk-toggleable__label-arrow:before {color: black;}#sk-container-id-1 div.sk-toggleable__content {max-height: 0;max-width: 0;overflow: hidden;text-align: left;background-color: #f0f8ff;}#sk-container-id-1 div.sk-toggleable__content pre {margin: 0.2em;color: black;border-radius: 0.25em;background-color: #f0f8ff;}#sk-container-id-1 input.sk-toggleable__control:checked~div.sk-toggleable__content {max-height: 200px;max-width: 100%;overflow: auto;}#sk-container-id-1 input.sk-toggleable__control:checked~label.sk-toggleable__label-arrow:before {content: \"▾\";}#sk-container-id-1 div.sk-estimator input.sk-toggleable__control:checked~label.sk-toggleable__label {background-color: #d4ebff;}#sk-container-id-1 div.sk-label input.sk-toggleable__control:checked~label.sk-toggleable__label {background-color: #d4ebff;}#sk-container-id-1 input.sk-hidden--visually {border: 0;clip: rect(1px 1px 1px 1px);clip: rect(1px, 1px, 1px, 1px);height: 1px;margin: -1px;overflow: hidden;padding: 0;position: absolute;width: 1px;}#sk-container-id-1 div.sk-estimator {font-family: monospace;background-color: #f0f8ff;border: 1px dotted black;border-radius: 0.25em;box-sizing: border-box;margin-bottom: 0.5em;}#sk-container-id-1 div.sk-estimator:hover {background-color: #d4ebff;}#sk-container-id-1 div.sk-parallel-item::after {content: \"\";width: 100%;border-bottom: 1px solid gray;flex-grow: 1;}#sk-container-id-1 div.sk-label:hover label.sk-toggleable__label {background-color: #d4ebff;}#sk-container-id-1 div.sk-serial::before {content: \"\";position: absolute;border-left: 1px solid gray;box-sizing: border-box;top: 0;bottom: 0;left: 50%;z-index: 0;}#sk-container-id-1 div.sk-serial {display: flex;flex-direction: column;align-items: center;background-color: white;padding-right: 0.2em;padding-left: 0.2em;position: relative;}#sk-container-id-1 div.sk-item {position: relative;z-index: 1;}#sk-container-id-1 div.sk-parallel {display: flex;align-items: stretch;justify-content: center;background-color: white;position: relative;}#sk-container-id-1 div.sk-item::before, #sk-container-id-1 div.sk-parallel-item::before {content: \"\";position: absolute;border-left: 1px solid gray;box-sizing: border-box;top: 0;bottom: 0;left: 50%;z-index: -1;}#sk-container-id-1 div.sk-parallel-item {display: flex;flex-direction: column;z-index: 1;position: relative;background-color: white;}#sk-container-id-1 div.sk-parallel-item:first-child::after {align-self: flex-end;width: 50%;}#sk-container-id-1 div.sk-parallel-item:last-child::after {align-self: flex-start;width: 50%;}#sk-container-id-1 div.sk-parallel-item:only-child::after {width: 0;}#sk-container-id-1 div.sk-dashed-wrapped {border: 1px dashed gray;margin: 0 0.4em 0.5em 0.4em;box-sizing: border-box;padding-bottom: 0.4em;background-color: white;}#sk-container-id-1 div.sk-label label {font-family: monospace;font-weight: bold;display: inline-block;line-height: 1.2em;}#sk-container-id-1 div.sk-label-container {text-align: center;}#sk-container-id-1 div.sk-container {/* jupyter's `normalize.less` sets `[hidden] { display: none; }` but bootstrap.min.css set `[hidden] { display: none !important; }` so we also need the `!important` here to be able to override the default hidden behavior on the sphinx rendered scikit-learn.org. See: https://github.com/scikit-learn/scikit-learn/issues/21755 */display: inline-block !important;position: relative;}#sk-container-id-1 div.sk-text-repr-fallback {display: none;}</style><div id=\"sk-container-id-1\" class=\"sk-top-container\"><div class=\"sk-text-repr-fallback\"><pre>SVC(probability=True, random_state=42)</pre><b>In a Jupyter environment, please rerun this cell to show the HTML representation or trust the notebook. <br />On GitHub, the HTML representation is unable to render, please try loading this page with nbviewer.org.</b></div><div class=\"sk-container\" hidden><div class=\"sk-item\"><div class=\"sk-estimator sk-toggleable\"><input class=\"sk-toggleable__control sk-hidden--visually\" id=\"sk-estimator-id-1\" type=\"checkbox\" checked><label for=\"sk-estimator-id-1\" class=\"sk-toggleable__label sk-toggleable__label-arrow\">SVC</label><div class=\"sk-toggleable__content\"><pre>SVC(probability=True, random_state=42)</pre></div></div></div></div></div>"
      ],
      "text/plain": [
       "SVC(probability=True, random_state=42)"
      ]
     },
     "execution_count": 15,
     "metadata": {},
     "output_type": "execute_result"
    }
   ],
   "source": [
    "svc = SVC(probability=True, random_state=42,)\n",
    "svc.fit(X_train, y_train)"
   ]
  },
  {
   "cell_type": "code",
   "execution_count": 16,
   "id": "cda6b828-8a5c-4ffb-bd1f-8af2b14bdfac",
   "metadata": {},
   "outputs": [
    {
     "name": "stdout",
     "output_type": "stream",
     "text": [
      "              precision    recall  f1-score   support\n",
      "\n",
      "           0       0.90      0.70      0.78      1035\n",
      "           1       0.48      0.78      0.60       374\n",
      "\n",
      "    accuracy                           0.72      1409\n",
      "   macro avg       0.69      0.74      0.69      1409\n",
      "weighted avg       0.79      0.72      0.74      1409\n",
      "\n"
     ]
    }
   ],
   "source": [
    "print(classification_report(y_test, svc.predict(pipeline_oob_xgb.transform(X_test))))"
   ]
  },
  {
   "cell_type": "code",
   "execution_count": 17,
   "id": "8a1b6f03-7b51-473c-a80c-be8526fc28e7",
   "metadata": {},
   "outputs": [
    {
     "name": "stdout",
     "output_type": "stream",
     "text": [
      "Accuracy score: 0.7196593328601846\n",
      "Precision score: 0.4827018121911038\n",
      "Recall score: 0.7834224598930482\n",
      "F1 score: 0.5973496432212029\n",
      "ROC-AUC score: 0.8249360613810742\n",
      "Average Precision Score: 0.638968425574208\n"
     ]
    }
   ],
   "source": [
    "print(f'Accuracy score: {accuracy_score(y_test, svc.predict(pipeline_oob_xgb.transform(X_test)))}')\n",
    "print(f'Precision score: {precision_score(y_test, svc.predict(pipeline_oob_xgb.transform(X_test)))}')\n",
    "print(f'Recall score: {recall_score(y_test, svc.predict(pipeline_oob_xgb.transform(X_test)))}')\n",
    "print(f'F1 score: {f1_score(y_test, svc.predict(pipeline_oob_xgb.transform(X_test)))}')\n",
    "print(f'ROC-AUC score: {roc_auc_score(y_test, svc.predict_proba(pipeline_oob_xgb.transform(X_test))[:, 1])}')\n",
    "print(f'Average Precision Score: {average_precision_score(y_test, svc.predict_proba(pipeline_oob_xgb.transform(X_test))[:, 1])}')"
   ]
  },
  {
   "cell_type": "code",
   "execution_count": 18,
   "id": "80d8106b-26a7-4372-9060-8c7fe433f4a6",
   "metadata": {},
   "outputs": [],
   "source": [
    "def objective(params):\n",
    "    clf = SVC(**params, random_state=42)\n",
    "    rec = cross_val_score(clf, \n",
    "                          X_train, \n",
    "                          y_train, \n",
    "                          scoring='recall').mean()\n",
    "    return {'loss': -rec, 'status': STATUS_OK}"
   ]
  },
  {
   "cell_type": "code",
   "execution_count": 19,
   "id": "dc333eda-d24e-41c1-b247-ad6c10737bed",
   "metadata": {},
   "outputs": [],
   "source": [
    "param_space = {\n",
    "    'C': hp.loguniform('C', -5, 5),\n",
    "    'kernel': hp.choice('kernel', ['linear', 'rbf']),\n",
    "    'gamma': hp.loguniform('gamma', -9, 3)\n",
    "}"
   ]
  },
  {
   "cell_type": "code",
   "execution_count": 20,
   "id": "d623d8d5-32ec-4b97-a167-050c9e70497a",
   "metadata": {},
   "outputs": [
    {
     "name": "stdout",
     "output_type": "stream",
     "text": [
      "100%|██████| 100/100 [16:07<00:00,  9.67s/trial, best loss: -0.8093645484949834]\n"
     ]
    }
   ],
   "source": [
    "trials = Trials()\n",
    "SEED = 101\n",
    "\n",
    "best = fmin(fn=objective,\n",
    "            space=param_space,\n",
    "            algo=tpe.suggest,\n",
    "            max_evals=100,\n",
    "            trials=trials,\n",
    "            rstate=np.random.default_rng(SEED))"
   ]
  },
  {
   "cell_type": "code",
   "execution_count": 21,
   "id": "0bddd224-ff66-46d9-a05d-1bebc5d5869c",
   "metadata": {},
   "outputs": [
    {
     "data": {
      "text/plain": [
       "{'C': 81.18945996322873, 'gamma': 0.00036666931427270375, 'kernel': 1}"
      ]
     },
     "execution_count": 21,
     "metadata": {},
     "output_type": "execute_result"
    }
   ],
   "source": [
    "best"
   ]
  },
  {
   "cell_type": "code",
   "execution_count": 22,
   "id": "1b3a5767-8afe-4036-9109-4e4f7584c81e",
   "metadata": {},
   "outputs": [],
   "source": [
    "# Convert indices to actual parameter values for categorical parameters like 'penalty' and 'solver'\n",
    "best_params = {\n",
    "    'C': best['C'],\n",
    "    'gamma': best['gamma'],\n",
    "    'kernel': ['linear', 'rbf'][best['kernel']]\n",
    "}"
   ]
  },
  {
   "cell_type": "code",
   "execution_count": 23,
   "id": "e0a612aa-4031-43b3-b576-dcaca2265e94",
   "metadata": {},
   "outputs": [
    {
     "data": {
      "text/plain": [
       "{'C': 81.18945996322873, 'gamma': 0.00036666931427270375, 'kernel': 'rbf'}"
      ]
     },
     "execution_count": 23,
     "metadata": {},
     "output_type": "execute_result"
    }
   ],
   "source": [
    "best_params"
   ]
  },
  {
   "cell_type": "code",
   "execution_count": 24,
   "id": "0ae19d0c-461a-45bc-98db-7c099767b6de",
   "metadata": {},
   "outputs": [
    {
     "data": {
      "text/html": [
       "<style>#sk-container-id-2 {color: black;background-color: white;}#sk-container-id-2 pre{padding: 0;}#sk-container-id-2 div.sk-toggleable {background-color: white;}#sk-container-id-2 label.sk-toggleable__label {cursor: pointer;display: block;width: 100%;margin-bottom: 0;padding: 0.3em;box-sizing: border-box;text-align: center;}#sk-container-id-2 label.sk-toggleable__label-arrow:before {content: \"▸\";float: left;margin-right: 0.25em;color: #696969;}#sk-container-id-2 label.sk-toggleable__label-arrow:hover:before {color: black;}#sk-container-id-2 div.sk-estimator:hover label.sk-toggleable__label-arrow:before {color: black;}#sk-container-id-2 div.sk-toggleable__content {max-height: 0;max-width: 0;overflow: hidden;text-align: left;background-color: #f0f8ff;}#sk-container-id-2 div.sk-toggleable__content pre {margin: 0.2em;color: black;border-radius: 0.25em;background-color: #f0f8ff;}#sk-container-id-2 input.sk-toggleable__control:checked~div.sk-toggleable__content {max-height: 200px;max-width: 100%;overflow: auto;}#sk-container-id-2 input.sk-toggleable__control:checked~label.sk-toggleable__label-arrow:before {content: \"▾\";}#sk-container-id-2 div.sk-estimator input.sk-toggleable__control:checked~label.sk-toggleable__label {background-color: #d4ebff;}#sk-container-id-2 div.sk-label input.sk-toggleable__control:checked~label.sk-toggleable__label {background-color: #d4ebff;}#sk-container-id-2 input.sk-hidden--visually {border: 0;clip: rect(1px 1px 1px 1px);clip: rect(1px, 1px, 1px, 1px);height: 1px;margin: -1px;overflow: hidden;padding: 0;position: absolute;width: 1px;}#sk-container-id-2 div.sk-estimator {font-family: monospace;background-color: #f0f8ff;border: 1px dotted black;border-radius: 0.25em;box-sizing: border-box;margin-bottom: 0.5em;}#sk-container-id-2 div.sk-estimator:hover {background-color: #d4ebff;}#sk-container-id-2 div.sk-parallel-item::after {content: \"\";width: 100%;border-bottom: 1px solid gray;flex-grow: 1;}#sk-container-id-2 div.sk-label:hover label.sk-toggleable__label {background-color: #d4ebff;}#sk-container-id-2 div.sk-serial::before {content: \"\";position: absolute;border-left: 1px solid gray;box-sizing: border-box;top: 0;bottom: 0;left: 50%;z-index: 0;}#sk-container-id-2 div.sk-serial {display: flex;flex-direction: column;align-items: center;background-color: white;padding-right: 0.2em;padding-left: 0.2em;position: relative;}#sk-container-id-2 div.sk-item {position: relative;z-index: 1;}#sk-container-id-2 div.sk-parallel {display: flex;align-items: stretch;justify-content: center;background-color: white;position: relative;}#sk-container-id-2 div.sk-item::before, #sk-container-id-2 div.sk-parallel-item::before {content: \"\";position: absolute;border-left: 1px solid gray;box-sizing: border-box;top: 0;bottom: 0;left: 50%;z-index: -1;}#sk-container-id-2 div.sk-parallel-item {display: flex;flex-direction: column;z-index: 1;position: relative;background-color: white;}#sk-container-id-2 div.sk-parallel-item:first-child::after {align-self: flex-end;width: 50%;}#sk-container-id-2 div.sk-parallel-item:last-child::after {align-self: flex-start;width: 50%;}#sk-container-id-2 div.sk-parallel-item:only-child::after {width: 0;}#sk-container-id-2 div.sk-dashed-wrapped {border: 1px dashed gray;margin: 0 0.4em 0.5em 0.4em;box-sizing: border-box;padding-bottom: 0.4em;background-color: white;}#sk-container-id-2 div.sk-label label {font-family: monospace;font-weight: bold;display: inline-block;line-height: 1.2em;}#sk-container-id-2 div.sk-label-container {text-align: center;}#sk-container-id-2 div.sk-container {/* jupyter's `normalize.less` sets `[hidden] { display: none; }` but bootstrap.min.css set `[hidden] { display: none !important; }` so we also need the `!important` here to be able to override the default hidden behavior on the sphinx rendered scikit-learn.org. See: https://github.com/scikit-learn/scikit-learn/issues/21755 */display: inline-block !important;position: relative;}#sk-container-id-2 div.sk-text-repr-fallback {display: none;}</style><div id=\"sk-container-id-2\" class=\"sk-top-container\"><div class=\"sk-text-repr-fallback\"><pre>SVC(C=81.18945996322873, gamma=0.00036666931427270375, probability=True,\n",
       "    random_state=42)</pre><b>In a Jupyter environment, please rerun this cell to show the HTML representation or trust the notebook. <br />On GitHub, the HTML representation is unable to render, please try loading this page with nbviewer.org.</b></div><div class=\"sk-container\" hidden><div class=\"sk-item\"><div class=\"sk-estimator sk-toggleable\"><input class=\"sk-toggleable__control sk-hidden--visually\" id=\"sk-estimator-id-2\" type=\"checkbox\" checked><label for=\"sk-estimator-id-2\" class=\"sk-toggleable__label sk-toggleable__label-arrow\">SVC</label><div class=\"sk-toggleable__content\"><pre>SVC(C=81.18945996322873, gamma=0.00036666931427270375, probability=True,\n",
       "    random_state=42)</pre></div></div></div></div></div>"
      ],
      "text/plain": [
       "SVC(C=81.18945996322873, gamma=0.00036666931427270375, probability=True,\n",
       "    random_state=42)"
      ]
     },
     "execution_count": 24,
     "metadata": {},
     "output_type": "execute_result"
    }
   ],
   "source": [
    "svc = SVC(**best_params, probability=True, random_state=42)\n",
    "svc.fit(X_train, y_train)"
   ]
  },
  {
   "cell_type": "code",
   "execution_count": 25,
   "id": "56566c14-4424-45a2-bce2-cd177adb6bf0",
   "metadata": {},
   "outputs": [
    {
     "name": "stdout",
     "output_type": "stream",
     "text": [
      "              precision    recall  f1-score   support\n",
      "\n",
      "           0       0.91      0.67      0.77      1035\n",
      "           1       0.48      0.82      0.60       374\n",
      "\n",
      "    accuracy                           0.71      1409\n",
      "   macro avg       0.69      0.75      0.69      1409\n",
      "weighted avg       0.80      0.71      0.73      1409\n",
      "\n"
     ]
    }
   ],
   "source": [
    "print(classification_report(y_test, svc.predict(pipeline_oob_xgb.transform(X_test))))"
   ]
  },
  {
   "cell_type": "code",
   "execution_count": 26,
   "id": "4688cdf5-50f7-4d25-9fea-ec41b0d95d31",
   "metadata": {},
   "outputs": [
    {
     "name": "stdout",
     "output_type": "stream",
     "text": [
      "Accuracy score: 0.7125621007806955\n",
      "Precision score: 0.475968992248062\n",
      "Recall score: 0.820855614973262\n",
      "F1 score: 0.6025515210991168\n",
      "ROC-AUC score: 0.8258531607636467\n",
      "Average Precision Score: 0.5883718883173763\n"
     ]
    }
   ],
   "source": [
    "print(f'Accuracy score: {accuracy_score(y_test, svc.predict(pipeline_oob_xgb.transform(X_test)))}')\n",
    "print(f'Precision score: {precision_score(y_test, svc.predict(pipeline_oob_xgb.transform(X_test)))}')\n",
    "print(f'Recall score: {recall_score(y_test, svc.predict(pipeline_oob_xgb.transform(X_test)))}')\n",
    "print(f'F1 score: {f1_score(y_test, svc.predict(pipeline_oob_xgb.transform(X_test)))}')\n",
    "print(f'ROC-AUC score: {roc_auc_score(y_test, svc.predict_proba(pipeline_oob_xgb.transform(X_test))[:, 1])}')\n",
    "print(f'Average Precision Score: {average_precision_score(y_test, svc.predict_proba(pipeline_oob_xgb.transform(X_test))[:, 1])}')"
   ]
  },
  {
   "cell_type": "code",
   "execution_count": 27,
   "id": "5ae428da-0999-4540-9a82-d96b8932ca4c",
   "metadata": {},
   "outputs": [
    {
     "data": {
      "image/png": "[encoded data removed]",
      "text/plain": [
       "<Figure size 800x550 with 2 Axes>"
      ]
     },
     "metadata": {},
     "output_type": "display_data"
    }
   ],
   "source": [
    "ConfusionMatrixDisplay(confusion_matrix(y_test, svc.predict(pipeline_oob_xgb.transform(X_test)))).plot();"
   ]
  },
  {
   "cell_type": "code",
   "execution_count": 28,
   "id": "d49fc5ee-0967-4b7b-8ae6-52036bf28724",
   "metadata": {},
   "outputs": [
    {
     "data": {
      "image/png": "[encoded data removed]",
      "text/plain": [
       "<Figure size 800x800 with 1 Axes>"
      ]
     },
     "metadata": {},
     "output_type": "display_data"
    }
   ],
   "source": [
    "fig, ax = plt.subplots(figsize=(8,8))\n",
    "RocCurveDisplay.from_estimator(svc,\n",
    "                               pipeline_oob_xgb.transform(X_test),\n",
    "                               y_test,\n",
    "                               ax=ax,);"
   ]
  },
  {
   "cell_type": "code",
   "execution_count": 29,
   "id": "fb32e7ee-c0f9-45bb-9f28-ada440d22a44",
   "metadata": {},
   "outputs": [
    {
     "data": {
      "image/png": "[encoded data removed]",
      "text/plain": [
       "<Figure size 800x600 with 1 Axes>"
      ]
     },
     "metadata": {},
     "output_type": "display_data"
    }
   ],
   "source": [
    "precision, recall, thresholds = precision_recall_curve(y_test, svc.predict_proba(pipeline_oob_xgb.transform(X_test))[:,1])\n",
    "plt.figure(figsize=(8, 6))\n",
    "plt.plot(recall, precision, marker='.', label='Precision-Recall Curve')\n",
    "plt.xlabel('Recall')\n",
    "plt.ylabel('Precision')\n",
    "plt.title('Precision-Recall Curve')\n",
    "plt.grid(True)\n",
    "plt.legend()\n",
    "plt.show()"
   ]
  },
  {
   "cell_type": "code",
   "execution_count": 30,
   "id": "f34105b7-4ce1-4e1b-9bc9-c6f6dee1c0b9",
   "metadata": {},
   "outputs": [
    {
     "name": "stdout",
     "output_type": "stream",
     "text": [
      "Optimal threshold based on f1: 0.7070707070707072\n",
      "Optimal threshold based on fbeta: 0.4545454545454546\n",
      "Optimal threshold based on fbeta1_8: 0.21212121212121213\n"
     ]
    }
   ],
   "source": [
    "thresholds = np.linspace(0, 1, 100)\n",
    "f1_scores = [f1_score(y_test, svc.predict_proba(pipeline_oob_xgb.transform(X_test))[:,1] > thr) for thr in thresholds]\n",
    "fbeta_scores = [fbeta_score(y_test, svc.predict_proba(pipeline_oob_xgb.transform(X_test))[:,1] > thr, beta=1.5) for thr in thresholds]\n",
    "fbeta_scores1_8 = [fbeta_score(y_test, svc.predict_proba(pipeline_oob_xgb.transform(X_test))[:,1] > thr, beta=1.8) for thr in thresholds]\n",
    "\n",
    "# Get threshold with highest F1 score\n",
    "optimal_threshold_f1 = thresholds[np.argmax(f1_scores)]\n",
    "optimal_threshold_fbeta = thresholds[np.argmax(fbeta_scores)]\n",
    "optimal_threshold_fbeta1_8 = thresholds[np.argmax(fbeta_scores1_8)]\n",
    "\n",
    "print(f'Optimal threshold based on f1: {optimal_threshold_f1}')\n",
    "print(f'Optimal threshold based on fbeta: {optimal_threshold_fbeta}')\n",
    "print(f'Optimal threshold based on fbeta1_8: {optimal_threshold_fbeta1_8}')"
   ]
  },
  {
   "cell_type": "code",
   "execution_count": 31,
   "id": "357e8680-d6f1-4a7e-b16f-03e09ad6fb3b",
   "metadata": {},
   "outputs": [],
   "source": [
    "# Generate predicted probabilities\n",
    "y_prob = svc.predict_proba(pipeline_oob_xgb.transform(X_test))[:,1]\n",
    "\n",
    "# Make class predictions based on the optimal threshold\n",
    "y_pred_adj_threshold_f1 = (y_prob >= optimal_threshold_f1).astype(int)\n",
    "y_pred_adj_threshold_fbeta = (y_prob >= optimal_threshold_fbeta).astype(int)\n",
    "y_pred_adj_threshold_fbeta1_8 = (y_prob >= optimal_threshold_fbeta1_8).astype(int)"
   ]
  },
  {
   "cell_type": "code",
   "execution_count": 32,
   "id": "3804e8e7-e0c2-48f8-91f0-a89c9fee1296",
   "metadata": {},
   "outputs": [
    {
     "name": "stdout",
     "output_type": "stream",
     "text": [
      "Threshold adjusted based on F1...\n",
      "\n",
      "Accuracy score: 0.7899219304471257\n",
      "Precision score: 0.5906976744186047\n",
      "Recall score: 0.679144385026738\n",
      "F1 score: 0.6318407960199006\n",
      "ROC-AUC score: 0.8258531607636467\n",
      "Average Precision Score: 0.5883718883173763\n"
     ]
    }
   ],
   "source": [
    "print('Threshold adjusted based on F1...\\n')\n",
    "print(f'Accuracy score: {accuracy_score(y_test, y_pred_adj_threshold_f1)}')\n",
    "print(f'Precision score: {precision_score(y_test, y_pred_adj_threshold_f1)}')\n",
    "print(f'Recall score: {recall_score(y_test, y_pred_adj_threshold_f1)}')\n",
    "print(f'F1 score: {f1_score(y_test, y_pred_adj_threshold_f1)}')\n",
    "print(f'ROC-AUC score: {roc_auc_score(y_test, svc.predict_proba(pipeline_oob_xgb.transform(X_test))[:, 1])}')\n",
    "print(f'Average Precision Score: {average_precision_score(y_test, svc.predict_proba(pipeline_oob_xgb.transform(X_test))[:, 1])}')"
   ]
  },
  {
   "cell_type": "code",
   "execution_count": 33,
   "id": "8576e1a2-f577-4c93-b6ab-5f8b3c627094",
   "metadata": {},
   "outputs": [
    {
     "name": "stdout",
     "output_type": "stream",
     "text": [
      "Threshold adjusted based on FBeta (Recall 1.5x more important than Precision)...\n",
      "\n",
      "Accuracy score: 0.7118523775727467\n",
      "Precision score: 0.47553516819571867\n",
      "Recall score: 0.8315508021390374\n",
      "F1 score: 0.6050583657587548\n",
      "ROC-AUC score: 0.8258531607636467\n",
      "Average Precision Score: 0.5883718883173763\n"
     ]
    }
   ],
   "source": [
    "print('Threshold adjusted based on FBeta (Recall 1.5x more important than Precision)...\\n')\n",
    "print(f'Accuracy score: {accuracy_score(y_test, y_pred_adj_threshold_fbeta)}')\n",
    "print(f'Precision score: {precision_score(y_test, y_pred_adj_threshold_fbeta)}')\n",
    "print(f'Recall score: {recall_score(y_test, y_pred_adj_threshold_fbeta)}')\n",
    "print(f'F1 score: {f1_score(y_test, y_pred_adj_threshold_fbeta)}')\n",
    "print(f'ROC-AUC score: {roc_auc_score(y_test, svc.predict_proba(pipeline_oob_xgb.transform(X_test))[:, 1])}')\n",
    "print(f'Average Precision Score: {average_precision_score(y_test, svc.predict_proba(pipeline_oob_xgb.transform(X_test))[:, 1])}')"
   ]
  },
  {
   "cell_type": "code",
   "execution_count": 34,
   "id": "d4abac0d-1f16-4f9a-bac8-ed08ec63e2f0",
   "metadata": {},
   "outputs": [
    {
     "name": "stdout",
     "output_type": "stream",
     "text": [
      "Threshold adjusted based on FBeta (Recall 1.8x more important than Precision)...\n",
      "\n",
      "Accuracy score: 0.6004258339247693\n",
      "Precision score: 0.394413407821229\n",
      "Recall score: 0.9438502673796791\n",
      "F1 score: 0.5563435776201734\n",
      "ROC-AUC score: 0.8258531607636467\n",
      "Average Precision Score: 0.5883718883173763\n"
     ]
    }
   ],
   "source": [
    "print('Threshold adjusted based on FBeta (Recall 1.8x more important than Precision)...\\n')\n",
    "print(f'Accuracy score: {accuracy_score(y_test, y_pred_adj_threshold_fbeta1_8)}')\n",
    "print(f'Precision score: {precision_score(y_test, y_pred_adj_threshold_fbeta1_8)}')\n",
    "print(f'Recall score: {recall_score(y_test, y_pred_adj_threshold_fbeta1_8)}')\n",
    "print(f'F1 score: {f1_score(y_test, y_pred_adj_threshold_fbeta1_8)}')\n",
    "print(f'ROC-AUC score: {roc_auc_score(y_test, svc.predict_proba(pipeline_oob_xgb.transform(X_test))[:, 1])}')\n",
    "print(f'Average Precision Score: {average_precision_score(y_test, svc.predict_proba(pipeline_oob_xgb.transform(X_test))[:, 1])}')"
   ]
  },
  {
   "cell_type": "code",
   "execution_count": 35,
   "id": "fc90676c-9bbd-40d2-972a-e1fcf04ffdbc",
   "metadata": {},
   "outputs": [
    {
     "data": {
      "image/png": "[encoded data removed]",
      "text/plain": [
       "<Figure size 800x550 with 2 Axes>"
      ]
     },
     "metadata": {},
     "output_type": "display_data"
    }
   ],
   "source": [
    "ConfusionMatrixDisplay(confusion_matrix(y_test, y_pred_adj_threshold_f1)).plot();"
   ]
  },
  {
   "cell_type": "code",
   "execution_count": 36,
   "id": "d31bfeb1-479d-43ca-a223-3142822d7b60",
   "metadata": {},
   "outputs": [
    {
     "data": {
      "image/png": "[encoded data removed]",
      "text/plain": [
       "<Figure size 800x550 with 2 Axes>"
      ]
     },
     "metadata": {},
     "output_type": "display_data"
    }
   ],
   "source": [
    "ConfusionMatrixDisplay(confusion_matrix(y_test, y_pred_adj_threshold_fbeta)).plot();"
   ]
  },
  {
   "cell_type": "code",
   "execution_count": 37,
   "id": "114ad5e7-801d-4c99-b8b5-d1ff7bd0006b",
   "metadata": {},
   "outputs": [
    {
     "data": {
      "image/png": "[encoded data removed]",
      "text/plain": [
       "<Figure size 800x550 with 2 Axes>"
      ]
     },
     "metadata": {},
     "output_type": "display_data"
    }
   ],
   "source": [
    "ConfusionMatrixDisplay(confusion_matrix(y_test, y_pred_adj_threshold_fbeta1_8)).plot();"
   ]
  },
  {
   "cell_type": "code",
   "execution_count": 38,
   "id": "a5d865b2-3704-4add-ad50-0571d2494665",
   "metadata": {},
   "outputs": [
    {
     "data": {
      "text/plain": [
       "['best_model_telco_churn_svc.joblib']"
      ]
     },
     "execution_count": 38,
     "metadata": {},
     "output_type": "execute_result"
    }
   ],
   "source": [
    "best_model = svc\n",
    "dump(best_model, 'best_model_telco_churn_svc.joblib')"
   ]
  },
  {
   "cell_type": "code",
   "execution_count": 39,
   "id": "6f81c475-15b1-4930-b45c-13c25df5f045",
   "metadata": {},
   "outputs": [
    {
     "data": {
      "text/plain": [
       "['best_pipeline_telco_churn_svc.joblib']"
      ]
     },
     "execution_count": 39,
     "metadata": {},
     "output_type": "execute_result"
    }
   ],
   "source": [
    "best_pipeline = pipeline_oob_xgb\n",
    "dump(best_pipeline, 'best_pipeline_telco_churn_svc.joblib')"
   ]
  },
  {
   "cell_type": "code",
   "execution_count": 40,
   "id": "88e8de6d-6f44-4a14-90de-2ebfd1b3f32c",
   "metadata": {},
   "outputs": [
    {
     "data": {
      "text/plain": [
       "0    0.73463\n",
       "1    0.26537\n",
       "Name: churn_label, dtype: float64"
      ]
     },
     "execution_count": 40,
     "metadata": {},
     "output_type": "execute_result"
    }
   ],
   "source": [
    "(df\n",
    " .churn_label\n",
    " .value_counts(normalize=True, dropna=False)\n",
    ")"
   ]
  },
  {
   "cell_type": "code",
   "execution_count": 42,
   "id": "6b70f2a0-1ec7-4d42-8bbf-6e7a178bfeaf",
   "metadata": {},
   "outputs": [
    {
     "data": {
      "text/plain": [
       "1495.2"
      ]
     },
     "execution_count": 42,
     "metadata": {},
     "output_type": "execute_result"
    }
   ],
   "source": [
    "0.8 * 1869"
   ]
  },
  {
   "cell_type": "code",
   "execution_count": 43,
   "id": "30a4351b-9910-4a5c-90f3-5224d4dcd961",
   "metadata": {},
   "outputs": [
    {
     "data": {
      "text/plain": [
       "374"
      ]
     },
     "execution_count": 43,
     "metadata": {},
     "output_type": "execute_result"
    }
   ],
   "source": [
    "1869-1495"
   ]
  },
  {
   "cell_type": "code",
   "execution_count": 44,
   "id": "df82cda0-c97a-4b52-b1bd-b8df1d9fc678",
   "metadata": {},
   "outputs": [
    {
     "data": {
      "text/plain": [
       "5083000000"
      ]
     },
     "execution_count": 44,
     "metadata": {},
     "output_type": "execute_result"
    }
   ],
   "source": [
    "3400000*1495"
   ]
  },
  {
   "cell_type": "code",
   "execution_count": null,
   "id": "5a9e35ba-dfaa-4a24-bdad-722943258897",
   "metadata": {},
   "outputs": [],
   "source": []
  }
 ],
 "metadata": {
  "kernelspec": {
   "display_name": "Python [conda env:newtelkomsel] *",
   "language": "python",
   "name": "conda-env-newtelkomsel-py"
  },
  "language_info": {
   "codemirror_mode": {
    "name": "ipython",
    "version": 3
   },
   "file_extension": ".py",
   "mimetype": "text/x-python",
   "name": "python",
   "nbconvert_exporter": "python",
   "pygments_lexer": "ipython3",
   "version": "3.9.18"
  }
 },
 "nbformat": 4,
 "nbformat_minor": 5
}
