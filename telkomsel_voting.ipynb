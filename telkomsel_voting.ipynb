{
 "cells": [
  {
   "cell_type": "code",
   "execution_count": 1,
   "id": "afb34512-8d0f-4e33-b487-424a4f8f98dd",
   "metadata": {},
   "outputs": [],
   "source": [
    "import re\n",
    "import joblib\n",
    "from joblib import dump, load\n",
    "\n",
    "import pandas as pd\n",
    "import numpy as np\n",
    "import matplotlib\n",
    "import matplotlib.pyplot as plt\n",
    "\n",
    "import sklearn\n",
    "from sklearn.base import (\n",
    "    BaseEstimator, \n",
    "    TransformerMixin\n",
    ")\n",
    "\n",
    "from imblearn.pipeline import Pipeline\n",
    "from imblearn.under_sampling import RandomUnderSampler\n",
    "from imblearn.over_sampling import SMOTE, RandomOverSampler\n",
    "\n",
    "from sklearn.compose import ColumnTransformer\n",
    "\n",
    "from sklearn.preprocessing import (\n",
    "    StandardScaler, \n",
    "    MinMaxScaler, \n",
    "    OrdinalEncoder, \n",
    "    LabelEncoder, \n",
    "    OneHotEncoder,\n",
    "    PolynomialFeatures\n",
    ")\n",
    "\n",
    "from sklearn.feature_selection import (\n",
    "    RFECV,\n",
    "    SelectFromModel,\n",
    "    SelectKBest,\n",
    "    SequentialFeatureSelector\n",
    ")\n",
    "\n",
    "from sklearn.model_selection import (\n",
    "    train_test_split,\n",
    "    cross_val_score\n",
    ")\n",
    "\n",
    "from sklearn.ensemble import VotingClassifier\n",
    "\n",
    "import sklearn.metrics as skmet\n",
    "\n",
    "from sklearn.metrics import (\n",
    "    accuracy_score, \n",
    "    precision_score, \n",
    "    recall_score, \n",
    "    f1_score,\n",
    "    fbeta_score,\n",
    "    roc_auc_score, \n",
    "    average_precision_score,\n",
    "    confusion_matrix, \n",
    "    classification_report, \n",
    "    ConfusionMatrixDisplay, \n",
    "    RocCurveDisplay, \n",
    "    precision_recall_curve,\n",
    ")\n",
    "\n",
    "import yellowbrick.model_selection as ms\n",
    "\n",
    "import xgboost\n",
    "from xgboost import XGBClassifier\n",
    "from hyperopt.pyll.base import scope\n",
    "from hyperopt import (\n",
    "    fmin, \n",
    "    tpe, \n",
    "    hp, \n",
    "    STATUS_OK, \n",
    "    Trials\n",
    ")\n",
    "\n",
    "from typing import (\n",
    "    Any, \n",
    "    Dict, \n",
    "    Union, \n",
    "    Sequence\n",
    ")\n",
    "\n",
    "pd.set_option('display.max_columns', None)\n",
    "pd.options.plotting.backend = 'matplotlib'"
   ]
  },
  {
   "cell_type": "code",
   "execution_count": 2,
   "id": "018d6a01-83c1-48c5-bef9-58918d96e8bd",
   "metadata": {},
   "outputs": [],
   "source": [
    "class TweakCustomerChurn(BaseEstimator, TransformerMixin):\n",
    "    \n",
    "    def fit(self, X, y=None):\n",
    "        return self\n",
    "\n",
    "    def transform(self, X, y=None):\n",
    "\n",
    "        digital_product_cols = ['games_product', 'music_product', 'education_product', 'video_product']\n",
    "        all_product_cols = ['games_product', 'music_product', 'education_product', 'video_product', 'call_center', 'use_myapp']\n",
    "        \n",
    "        return (X\n",
    "                .rename(columns=lambda col: re.compile(r'[^a-zA-Z0-9_]+').sub('_', col.lower()))\n",
    "                .assign(tenure_segmentation=lambda df_: np.where(df_.tenure_months < 4, \"low\", np.where(df_.tenure_months < 12, \"medium\", \"high\")),\n",
    "                        any_digital_product=lambda df_: np.where((df_.games_product == \"Yes\") | (df_.music_product == \"Yes\") | (df_.education_product == \"Yes\") | (df_.video_product == \"Yes\"), 1, 0),\n",
    "                        all_digital_product=lambda df_: np.where((df_.games_product == \"Yes\") & (df_.music_product == \"Yes\") & (df_.education_product == \"Yes\") & (df_.video_product == \"Yes\"), 1, 0),\n",
    "                        total_digital_product_used=lambda df_: df_[digital_product_cols].apply(lambda row: sum(row == 'Yes'), axis=1),\n",
    "                        total_product_utilisation=lambda df_: df_[all_product_cols].apply(lambda row: sum(row == 'Yes'), axis=1),\n",
    "                        total_spending=lambda df_: df_.tenure_months.mul(df_.monthly_purchase_thou_idr_),\n",
    "                        net_cltv_total_spending=lambda df_: df_.cltv_predicted_thou_idr_.sub(df_.total_spending)\n",
    "                        # spending_per_tenure=lambda df_: df_.monthly_purchase_thou_idr_.div(df_.tenure_months),\n",
    "                        # cltv_monthly_purchase_ratio=lambda df_: df_.cltv_predicted_thou_idr_.div(df_.monthly_purchase_thou_idr_),\n",
    "                        ) #tbc\n",
    "                .astype({**{k: \"int8\"\n",
    "                            for k in [\"tenure_months\", \"any_digital_product\", \"all_digital_product\", \"total_digital_product_used\", \"total_product_utilisation\"]},\n",
    "                         **{k: \"float16\"\n",
    "                            for k in [\"monthly_purchase_thou_idr_\", \"cltv_predicted_thou_idr_\", \"total_spending\", \"net_cltv_total_spending\"]},\n",
    "                         **{k: \"category\"\n",
    "                            for k in [\"tenure_segmentation\", \"location\", \"device_class\", \"games_product\", \"music_product\", \"education_product\", \"call_center\", \"video_product\", \"use_myapp\", \"payment_method\"]}})\n",
    "                .reindex(columns=[\"tenure_months\", \"tenure_segmentation\", \"location\", \"device_class\", \"games_product\", \"music_product\", \"education_product\", \"video_product\", \"any_digital_product\", \"all_digital_product\", \"total_digital_product_used\", \"call_center\", \"use_myapp\", \"total_product_utilisation\", \"payment_method\", \"monthly_purchase_thou_idr_\", \"cltv_predicted_thou_idr_\", \"total_spending\", \"net_cltv_total_spending\"])\n",
    "               )"
   ]
  },
  {
   "cell_type": "code",
   "execution_count": 3,
   "id": "51e8025a-7c35-4783-b697-02a682c991d9",
   "metadata": {},
   "outputs": [],
   "source": [
    "# Load the model from the file\n",
    "loaded_model_xgb = load('best_model_telco_churn.joblib')"
   ]
  },
  {
   "cell_type": "code",
   "execution_count": 4,
   "id": "c2e60614-0328-49a3-be82-fa3bc19f8682",
   "metadata": {},
   "outputs": [],
   "source": [
    "# Load the pipeline from the file\n",
    "loaded_pipeline_xgb = load('best_pipeline_telco_churn.joblib')"
   ]
  },
  {
   "cell_type": "code",
   "execution_count": 5,
   "id": "d7ce731b-056e-493c-9195-9426798accc9",
   "metadata": {},
   "outputs": [],
   "source": [
    "# Load the model from the file\n",
    "loaded_model_logreg = load('best_model_telco_churn_logreg.joblib')"
   ]
  },
  {
   "cell_type": "code",
   "execution_count": 6,
   "id": "529c3ba5-dac9-49ac-a2de-5898fd83a371",
   "metadata": {},
   "outputs": [],
   "source": [
    "# Load the pipeline from the file\n",
    "loaded_pipeline_logreg = load('best_pipeline_telco_churn_logreg.joblib')"
   ]
  },
  {
   "cell_type": "code",
   "execution_count": 7,
   "id": "bc5f81d7-4cbb-46ae-8918-e51613f0a741",
   "metadata": {},
   "outputs": [],
   "source": [
    "# Load the model from the file\n",
    "loaded_model_svc = load('best_model_telco_churn_svc.joblib')"
   ]
  },
  {
   "cell_type": "code",
   "execution_count": 8,
   "id": "432e0433-0611-466c-a009-ed05f09f6a70",
   "metadata": {},
   "outputs": [],
   "source": [
    "# Load the pipeline from the file\n",
    "loaded_pipeline_svc = load('best_pipeline_telco_churn_svc.joblib')"
   ]
  },
  {
   "cell_type": "code",
   "execution_count": 9,
   "id": "74c51beb-deac-4264-a7bf-b46951ce67c9",
   "metadata": {},
   "outputs": [],
   "source": [
    "df = (pd\n",
    "      .read_csv('Telco_customer_churn_adapted_v2.csv')\n",
    "     )"
   ]
  },
  {
   "cell_type": "code",
   "execution_count": 10,
   "id": "d578fad0-3d56-44f6-a3c2-025d12f99ea5",
   "metadata": {},
   "outputs": [
    {
     "data": {
      "text/html": [
       "<div>\n",
       "<style scoped>\n",
       "    .dataframe tbody tr th:only-of-type {\n",
       "        vertical-align: middle;\n",
       "    }\n",
       "\n",
       "    .dataframe tbody tr th {\n",
       "        vertical-align: top;\n",
       "    }\n",
       "\n",
       "    .dataframe thead th {\n",
       "        text-align: right;\n",
       "    }\n",
       "</style>\n",
       "<table border=\"1\" class=\"dataframe\">\n",
       "  <thead>\n",
       "    <tr style=\"text-align: right;\">\n",
       "      <th></th>\n",
       "      <th>Customer ID</th>\n",
       "      <th>Tenure Months</th>\n",
       "      <th>Location</th>\n",
       "      <th>Device Class</th>\n",
       "      <th>Games Product</th>\n",
       "      <th>Music Product</th>\n",
       "      <th>Education Product</th>\n",
       "      <th>Call Center</th>\n",
       "      <th>Video Product</th>\n",
       "      <th>Use MyApp</th>\n",
       "      <th>Payment Method</th>\n",
       "      <th>Monthly Purchase (Thou. IDR)</th>\n",
       "      <th>churn_label</th>\n",
       "      <th>Longitude</th>\n",
       "      <th>Latitude</th>\n",
       "      <th>CLTV (Predicted Thou. IDR)</th>\n",
       "    </tr>\n",
       "  </thead>\n",
       "  <tbody>\n",
       "    <tr>\n",
       "      <th>0</th>\n",
       "      <td>0</td>\n",
       "      <td>2</td>\n",
       "      <td>Jakarta</td>\n",
       "      <td>Mid End</td>\n",
       "      <td>Yes</td>\n",
       "      <td>Yes</td>\n",
       "      <td>No</td>\n",
       "      <td>No</td>\n",
       "      <td>No</td>\n",
       "      <td>No</td>\n",
       "      <td>Digital Wallet</td>\n",
       "      <td>70.005</td>\n",
       "      <td>1</td>\n",
       "      <td>106.816666</td>\n",
       "      <td>-6.2</td>\n",
       "      <td>4210.7</td>\n",
       "    </tr>\n",
       "    <tr>\n",
       "      <th>1</th>\n",
       "      <td>1</td>\n",
       "      <td>2</td>\n",
       "      <td>Jakarta</td>\n",
       "      <td>High End</td>\n",
       "      <td>No</td>\n",
       "      <td>No</td>\n",
       "      <td>No</td>\n",
       "      <td>No</td>\n",
       "      <td>No</td>\n",
       "      <td>No</td>\n",
       "      <td>Pulsa</td>\n",
       "      <td>91.910</td>\n",
       "      <td>1</td>\n",
       "      <td>106.816666</td>\n",
       "      <td>-6.2</td>\n",
       "      <td>3511.3</td>\n",
       "    </tr>\n",
       "    <tr>\n",
       "      <th>2</th>\n",
       "      <td>2</td>\n",
       "      <td>8</td>\n",
       "      <td>Jakarta</td>\n",
       "      <td>High End</td>\n",
       "      <td>No</td>\n",
       "      <td>No</td>\n",
       "      <td>Yes</td>\n",
       "      <td>No</td>\n",
       "      <td>Yes</td>\n",
       "      <td>Yes</td>\n",
       "      <td>Pulsa</td>\n",
       "      <td>129.545</td>\n",
       "      <td>1</td>\n",
       "      <td>106.816666</td>\n",
       "      <td>-6.2</td>\n",
       "      <td>6983.6</td>\n",
       "    </tr>\n",
       "    <tr>\n",
       "      <th>3</th>\n",
       "      <td>3</td>\n",
       "      <td>28</td>\n",
       "      <td>Jakarta</td>\n",
       "      <td>High End</td>\n",
       "      <td>No</td>\n",
       "      <td>No</td>\n",
       "      <td>Yes</td>\n",
       "      <td>Yes</td>\n",
       "      <td>Yes</td>\n",
       "      <td>Yes</td>\n",
       "      <td>Pulsa</td>\n",
       "      <td>136.240</td>\n",
       "      <td>1</td>\n",
       "      <td>106.816666</td>\n",
       "      <td>-6.2</td>\n",
       "      <td>6503.9</td>\n",
       "    </tr>\n",
       "    <tr>\n",
       "      <th>4</th>\n",
       "      <td>4</td>\n",
       "      <td>49</td>\n",
       "      <td>Jakarta</td>\n",
       "      <td>High End</td>\n",
       "      <td>No</td>\n",
       "      <td>Yes</td>\n",
       "      <td>Yes</td>\n",
       "      <td>No</td>\n",
       "      <td>Yes</td>\n",
       "      <td>Yes</td>\n",
       "      <td>Debit</td>\n",
       "      <td>134.810</td>\n",
       "      <td>1</td>\n",
       "      <td>106.816666</td>\n",
       "      <td>-6.2</td>\n",
       "      <td>6942.0</td>\n",
       "    </tr>\n",
       "    <tr>\n",
       "      <th>...</th>\n",
       "      <td>...</td>\n",
       "      <td>...</td>\n",
       "      <td>...</td>\n",
       "      <td>...</td>\n",
       "      <td>...</td>\n",
       "      <td>...</td>\n",
       "      <td>...</td>\n",
       "      <td>...</td>\n",
       "      <td>...</td>\n",
       "      <td>...</td>\n",
       "      <td>...</td>\n",
       "      <td>...</td>\n",
       "      <td>...</td>\n",
       "      <td>...</td>\n",
       "      <td>...</td>\n",
       "      <td>...</td>\n",
       "    </tr>\n",
       "    <tr>\n",
       "      <th>7038</th>\n",
       "      <td>7038</td>\n",
       "      <td>72</td>\n",
       "      <td>Jakarta</td>\n",
       "      <td>Low End</td>\n",
       "      <td>No internet service</td>\n",
       "      <td>No internet service</td>\n",
       "      <td>No internet service</td>\n",
       "      <td>No</td>\n",
       "      <td>No internet service</td>\n",
       "      <td>No internet service</td>\n",
       "      <td>Debit</td>\n",
       "      <td>27.495</td>\n",
       "      <td>0</td>\n",
       "      <td>106.816666</td>\n",
       "      <td>-6.2</td>\n",
       "      <td>6897.8</td>\n",
       "    </tr>\n",
       "    <tr>\n",
       "      <th>7039</th>\n",
       "      <td>7039</td>\n",
       "      <td>24</td>\n",
       "      <td>Jakarta</td>\n",
       "      <td>Mid End</td>\n",
       "      <td>Yes</td>\n",
       "      <td>No</td>\n",
       "      <td>Yes</td>\n",
       "      <td>Yes</td>\n",
       "      <td>Yes</td>\n",
       "      <td>Yes</td>\n",
       "      <td>Digital Wallet</td>\n",
       "      <td>110.240</td>\n",
       "      <td>0</td>\n",
       "      <td>106.816666</td>\n",
       "      <td>-6.2</td>\n",
       "      <td>2782.0</td>\n",
       "    </tr>\n",
       "    <tr>\n",
       "      <th>7040</th>\n",
       "      <td>7040</td>\n",
       "      <td>72</td>\n",
       "      <td>Jakarta</td>\n",
       "      <td>High End</td>\n",
       "      <td>No</td>\n",
       "      <td>Yes</td>\n",
       "      <td>Yes</td>\n",
       "      <td>No</td>\n",
       "      <td>Yes</td>\n",
       "      <td>Yes</td>\n",
       "      <td>Credit</td>\n",
       "      <td>134.160</td>\n",
       "      <td>0</td>\n",
       "      <td>106.816666</td>\n",
       "      <td>-6.2</td>\n",
       "      <td>7228.0</td>\n",
       "    </tr>\n",
       "    <tr>\n",
       "      <th>7041</th>\n",
       "      <td>7041</td>\n",
       "      <td>11</td>\n",
       "      <td>Jakarta</td>\n",
       "      <td>Mid End</td>\n",
       "      <td>Yes</td>\n",
       "      <td>No</td>\n",
       "      <td>No</td>\n",
       "      <td>No</td>\n",
       "      <td>No</td>\n",
       "      <td>No</td>\n",
       "      <td>Pulsa</td>\n",
       "      <td>38.480</td>\n",
       "      <td>0</td>\n",
       "      <td>106.816666</td>\n",
       "      <td>-6.2</td>\n",
       "      <td>3630.9</td>\n",
       "    </tr>\n",
       "    <tr>\n",
       "      <th>7042</th>\n",
       "      <td>7042</td>\n",
       "      <td>66</td>\n",
       "      <td>Jakarta</td>\n",
       "      <td>High End</td>\n",
       "      <td>Yes</td>\n",
       "      <td>No</td>\n",
       "      <td>Yes</td>\n",
       "      <td>Yes</td>\n",
       "      <td>Yes</td>\n",
       "      <td>Yes</td>\n",
       "      <td>Debit</td>\n",
       "      <td>137.345</td>\n",
       "      <td>0</td>\n",
       "      <td>106.816666</td>\n",
       "      <td>-6.2</td>\n",
       "      <td>6626.1</td>\n",
       "    </tr>\n",
       "  </tbody>\n",
       "</table>\n",
       "<p>7043 rows × 16 columns</p>\n",
       "</div>"
      ],
      "text/plain": [
       "      Customer ID  Tenure Months Location Device Class        Games Product  \\\n",
       "0               0              2  Jakarta      Mid End                  Yes   \n",
       "1               1              2  Jakarta     High End                   No   \n",
       "2               2              8  Jakarta     High End                   No   \n",
       "3               3             28  Jakarta     High End                   No   \n",
       "4               4             49  Jakarta     High End                   No   \n",
       "...           ...            ...      ...          ...                  ...   \n",
       "7038         7038             72  Jakarta      Low End  No internet service   \n",
       "7039         7039             24  Jakarta      Mid End                  Yes   \n",
       "7040         7040             72  Jakarta     High End                   No   \n",
       "7041         7041             11  Jakarta      Mid End                  Yes   \n",
       "7042         7042             66  Jakarta     High End                  Yes   \n",
       "\n",
       "            Music Product    Education Product Call Center  \\\n",
       "0                     Yes                   No          No   \n",
       "1                      No                   No          No   \n",
       "2                      No                  Yes          No   \n",
       "3                      No                  Yes         Yes   \n",
       "4                     Yes                  Yes          No   \n",
       "...                   ...                  ...         ...   \n",
       "7038  No internet service  No internet service          No   \n",
       "7039                   No                  Yes         Yes   \n",
       "7040                  Yes                  Yes          No   \n",
       "7041                   No                   No          No   \n",
       "7042                   No                  Yes         Yes   \n",
       "\n",
       "            Video Product            Use MyApp  Payment Method  \\\n",
       "0                      No                   No  Digital Wallet   \n",
       "1                      No                   No           Pulsa   \n",
       "2                     Yes                  Yes           Pulsa   \n",
       "3                     Yes                  Yes           Pulsa   \n",
       "4                     Yes                  Yes           Debit   \n",
       "...                   ...                  ...             ...   \n",
       "7038  No internet service  No internet service           Debit   \n",
       "7039                  Yes                  Yes  Digital Wallet   \n",
       "7040                  Yes                  Yes          Credit   \n",
       "7041                   No                   No           Pulsa   \n",
       "7042                  Yes                  Yes           Debit   \n",
       "\n",
       "      Monthly Purchase (Thou. IDR)  churn_label   Longitude  Latitude  \\\n",
       "0                           70.005            1  106.816666      -6.2   \n",
       "1                           91.910            1  106.816666      -6.2   \n",
       "2                          129.545            1  106.816666      -6.2   \n",
       "3                          136.240            1  106.816666      -6.2   \n",
       "4                          134.810            1  106.816666      -6.2   \n",
       "...                            ...          ...         ...       ...   \n",
       "7038                        27.495            0  106.816666      -6.2   \n",
       "7039                       110.240            0  106.816666      -6.2   \n",
       "7040                       134.160            0  106.816666      -6.2   \n",
       "7041                        38.480            0  106.816666      -6.2   \n",
       "7042                       137.345            0  106.816666      -6.2   \n",
       "\n",
       "      CLTV (Predicted Thou. IDR)  \n",
       "0                         4210.7  \n",
       "1                         3511.3  \n",
       "2                         6983.6  \n",
       "3                         6503.9  \n",
       "4                         6942.0  \n",
       "...                          ...  \n",
       "7038                      6897.8  \n",
       "7039                      2782.0  \n",
       "7040                      7228.0  \n",
       "7041                      3630.9  \n",
       "7042                      6626.1  \n",
       "\n",
       "[7043 rows x 16 columns]"
      ]
     },
     "execution_count": 10,
     "metadata": {},
     "output_type": "execute_result"
    }
   ],
   "source": [
    "label_encoder = LabelEncoder()\n",
    "df = (df\n",
    "      .rename(columns={'Churn Label': 'churn_label'})\n",
    "      .assign(churn_label=lambda df_: label_encoder.fit_transform(df_.churn_label))\n",
    "      .astype({'churn_label': 'int8'})\n",
    "     )\n",
    "df"
   ]
  },
  {
   "cell_type": "code",
   "execution_count": 11,
   "id": "818f6f24-07f2-4ecf-96af-a214dd41a8d9",
   "metadata": {},
   "outputs": [],
   "source": [
    "X_train, X_test, y_train, y_test = train_test_split(df.drop(columns=['Customer ID', 'Latitude', 'Longitude', 'churn_label']),\n",
    "                                                    df[['churn_label']].values.ravel(),\n",
    "                                                    test_size=0.2,\n",
    "                                                    stratify=df[['churn_label']].values.ravel(),\n",
    "                                                    random_state=42)"
   ]
  },
  {
   "cell_type": "code",
   "execution_count": 12,
   "id": "0053047e-a3ee-4025-b474-1c4df7c41efc",
   "metadata": {},
   "outputs": [],
   "source": [
    "X_train = loaded_pipeline_logreg.transform(X_train)\n",
    "X_test = loaded_pipeline_logreg.transform(X_test)"
   ]
  },
  {
   "cell_type": "code",
   "execution_count": 13,
   "id": "332cb4f4-163e-4d76-9b13-9bfe00ac67da",
   "metadata": {},
   "outputs": [],
   "source": [
    "rus = RandomUnderSampler(random_state=42)\n",
    "X_train, y_train = rus.fit_resample(X_train, y_train)"
   ]
  },
  {
   "cell_type": "code",
   "execution_count": 14,
   "id": "6ef8d86d-0694-4f6d-9332-f9cce9745c98",
   "metadata": {},
   "outputs": [],
   "source": [
    "clf1 = loaded_model_xgb\n",
    "clf2 = loaded_model_logreg\n",
    "clf3 = loaded_model_svc\n",
    "\n",
    "eclf1 = VotingClassifier(estimators=[('xgb', clf1), \n",
    "                                     ('logreg', clf2), \n",
    "                                     ('svc', clf3)], \n",
    "                         voting='hard')\n",
    "\n",
    "eclf2 = VotingClassifier(estimators=[('lr', clf1), \n",
    "                                     ('rf', clf2), \n",
    "                                     ('gnb', clf3)],\n",
    "                         voting='soft')"
   ]
  },
  {
   "cell_type": "code",
   "execution_count": 15,
   "id": "963ce744-fd2a-40ed-b84b-a2e6fbe9156f",
   "metadata": {},
   "outputs": [
    {
     "name": "stdout",
     "output_type": "stream",
     "text": [
      "[0 1 0 ... 0 0 0]\n"
     ]
    }
   ],
   "source": [
    "eclf1 = eclf1.fit(X_train, y_train)\n",
    "print(eclf1.predict(X_test))"
   ]
  },
  {
   "cell_type": "code",
   "execution_count": 16,
   "id": "be85a79f-7f36-4803-93ab-1c3b0e7c68c9",
   "metadata": {},
   "outputs": [
    {
     "name": "stdout",
     "output_type": "stream",
     "text": [
      "[0 1 0 ... 0 0 0]\n"
     ]
    }
   ],
   "source": [
    "eclf2 = eclf2.fit(X_train, y_train)\n",
    "print(eclf2.predict(X_test))"
   ]
  },
  {
   "cell_type": "code",
   "execution_count": 17,
   "id": "c1faadb9-1045-4807-8dcb-0c0f8571c07e",
   "metadata": {},
   "outputs": [
    {
     "name": "stdout",
     "output_type": "stream",
     "text": [
      "              precision    recall  f1-score   support\n",
      "\n",
      "           0       0.91      0.72      0.80      1035\n",
      "           1       0.50      0.79      0.62       374\n",
      "\n",
      "    accuracy                           0.74      1409\n",
      "   macro avg       0.70      0.76      0.71      1409\n",
      "weighted avg       0.80      0.74      0.75      1409\n",
      "\n"
     ]
    }
   ],
   "source": [
    "print(classification_report(y_test, eclf1.predict(X_test)))"
   ]
  },
  {
   "cell_type": "code",
   "execution_count": 18,
   "id": "0d16d5d0-8f8a-4c46-b5c4-87bb07369ee3",
   "metadata": {},
   "outputs": [
    {
     "name": "stdout",
     "output_type": "stream",
     "text": [
      "Accuracy score: 0.7366926898509581\n",
      "Precision score: 0.5025380710659898\n",
      "Recall score: 0.7941176470588235\n",
      "F1 score: 0.6155440414507771\n"
     ]
    }
   ],
   "source": [
    "print(f'Accuracy score: {accuracy_score(y_test, eclf1.predict(X_test))}')\n",
    "print(f'Precision score: {precision_score(y_test, eclf1.predict(X_test))}')\n",
    "print(f'Recall score: {recall_score(y_test, eclf1.predict(X_test))}')\n",
    "print(f'F1 score: {f1_score(y_test, eclf1.predict(X_test))}')"
   ]
  },
  {
   "cell_type": "code",
   "execution_count": 19,
   "id": "44a7f68d-3716-4f6c-8abf-fd5e046b3153",
   "metadata": {},
   "outputs": [
    {
     "data": {
      "image/png": "[encoded data removed]",
      "text/plain": [
       "<Figure size 800x550 with 2 Axes>"
      ]
     },
     "metadata": {},
     "output_type": "display_data"
    }
   ],
   "source": [
    "ConfusionMatrixDisplay(confusion_matrix(y_test, eclf1.predict(X_test))).plot();"
   ]
  },
  {
   "cell_type": "code",
   "execution_count": 20,
   "id": "bd1c1b2e-7026-4f13-8c1d-41f408a2503f",
   "metadata": {},
   "outputs": [
    {
     "name": "stdout",
     "output_type": "stream",
     "text": [
      "              precision    recall  f1-score   support\n",
      "\n",
      "           0       0.91      0.71      0.80      1035\n",
      "           1       0.50      0.80      0.61       374\n",
      "\n",
      "    accuracy                           0.73      1409\n",
      "   macro avg       0.70      0.75      0.71      1409\n",
      "weighted avg       0.80      0.73      0.75      1409\n",
      "\n"
     ]
    }
   ],
   "source": [
    "print(classification_report(y_test, eclf2.predict(X_test)))"
   ]
  },
  {
   "cell_type": "code",
   "execution_count": 21,
   "id": "4f59055e-2d4b-4e9c-93c3-ccde51d44537",
   "metadata": {},
   "outputs": [
    {
     "name": "stdout",
     "output_type": "stream",
     "text": [
      "Accuracy score: 0.7338537970191625\n",
      "Precision score: 0.4991624790619765\n",
      "Recall score: 0.7967914438502673\n",
      "F1 score: 0.6138002059732234\n",
      "ROC-AUC score: 0.8370353147846754\n",
      "Average Precision Score: 0.6472563185095538\n"
     ]
    }
   ],
   "source": [
    "print(f'Accuracy score: {accuracy_score(y_test, eclf2.predict(X_test))}')\n",
    "print(f'Precision score: {precision_score(y_test, eclf2.predict(X_test))}')\n",
    "print(f'Recall score: {recall_score(y_test, eclf2.predict(X_test))}')\n",
    "print(f'F1 score: {f1_score(y_test, eclf2.predict(X_test))}')\n",
    "print(f'ROC-AUC score: {roc_auc_score(y_test, eclf2.predict_proba(X_test)[:, 1])}')\n",
    "print(f'Average Precision Score: {average_precision_score(y_test, eclf2.predict_proba(X_test)[:, 1])}')"
   ]
  },
  {
   "cell_type": "code",
   "execution_count": 22,
   "id": "8790963c-3fb1-47de-8687-eb072c6b9ffe",
   "metadata": {},
   "outputs": [
    {
     "data": {
      "image/png": "[encoded data removed]",
      "text/plain": [
       "<Figure size 800x550 with 2 Axes>"
      ]
     },
     "metadata": {},
     "output_type": "display_data"
    }
   ],
   "source": [
    "ConfusionMatrixDisplay(confusion_matrix(y_test, eclf2.predict(X_test))).plot();"
   ]
  },
  {
   "cell_type": "code",
   "execution_count": 23,
   "id": "e3cadb98-d271-47e4-b3df-028058cc169d",
   "metadata": {},
   "outputs": [
    {
     "data": {
      "image/png": "[encoded data removed]",
      "text/plain": [
       "<Figure size 800x800 with 1 Axes>"
      ]
     },
     "metadata": {},
     "output_type": "display_data"
    }
   ],
   "source": [
    "fig, ax = plt.subplots(figsize=(8,8))\n",
    "RocCurveDisplay.from_estimator(eclf2,\n",
    "                               X_test,\n",
    "                               y_test,\n",
    "                               ax=ax,);"
   ]
  },
  {
   "cell_type": "code",
   "execution_count": 24,
   "id": "03c505c3-69cf-4fa9-a998-497406b68e94",
   "metadata": {},
   "outputs": [
    {
     "data": {
      "image/png": "[encoded data removed]",
      "text/plain": [
       "<Figure size 800x600 with 1 Axes>"
      ]
     },
     "metadata": {},
     "output_type": "display_data"
    }
   ],
   "source": [
    "precision, recall, thresholds = precision_recall_curve(y_test, eclf2.predict_proba(X_test)[:,1])\n",
    "plt.figure(figsize=(8, 6))\n",
    "plt.plot(recall, precision, marker='.', label='Precision-Recall Curve')\n",
    "plt.xlabel('Recall')\n",
    "plt.ylabel('Precision')\n",
    "plt.title('Precision-Recall Curve')\n",
    "plt.grid(True)\n",
    "plt.legend()\n",
    "plt.show()"
   ]
  },
  {
   "cell_type": "code",
   "execution_count": 25,
   "id": "7b30bc7e-1a9e-4edf-9e53-034c5e5d2493",
   "metadata": {},
   "outputs": [
    {
     "name": "stdout",
     "output_type": "stream",
     "text": [
      "Optimal threshold based on f1: 0.5858585858585859\n",
      "Optimal threshold based on fbeta: 0.4040404040404041\n",
      "Optimal threshold based on fbeta1_8: 0.24242424242424243\n"
     ]
    }
   ],
   "source": [
    "thresholds = np.linspace(0, 1, 100)\n",
    "f1_scores = [f1_score(y_test, eclf2.predict_proba(X_test)[:,1] > thr) for thr in thresholds]\n",
    "fbeta_scores = [fbeta_score(y_test, eclf2.predict_proba(X_test)[:,1] > thr, beta=1.5) for thr in thresholds]\n",
    "fbeta_scores1_8 = [fbeta_score(y_test, eclf2.predict_proba(X_test)[:,1] > thr, beta=1.8) for thr in thresholds]\n",
    "\n",
    "# Get threshold with highest F1 score\n",
    "optimal_threshold_f1 = thresholds[np.argmax(f1_scores)]\n",
    "optimal_threshold_fbeta = thresholds[np.argmax(fbeta_scores)]\n",
    "optimal_threshold_fbeta1_8 = thresholds[np.argmax(fbeta_scores1_8)]\n",
    "\n",
    "print(f'Optimal threshold based on f1: {optimal_threshold_f1}')\n",
    "print(f'Optimal threshold based on fbeta: {optimal_threshold_fbeta}')\n",
    "print(f'Optimal threshold based on fbeta1_8: {optimal_threshold_fbeta1_8}')"
   ]
  },
  {
   "cell_type": "code",
   "execution_count": 26,
   "id": "5ccd49f9-b390-456d-80f2-22d9f5e76354",
   "metadata": {},
   "outputs": [],
   "source": [
    "# Generate predicted probabilities\n",
    "y_prob = eclf2.predict_proba(X_test)[:,1]\n",
    "\n",
    "# Make class predictions based on the optimal threshold\n",
    "y_pred_adj_threshold_f1 = (y_prob >= optimal_threshold_f1).astype(int)\n",
    "y_pred_adj_threshold_fbeta = (y_prob >= optimal_threshold_fbeta).astype(int)\n",
    "y_pred_adj_threshold_fbeta1_8 = (y_prob >= optimal_threshold_fbeta1_8).astype(int)"
   ]
  },
  {
   "cell_type": "code",
   "execution_count": 27,
   "id": "f8b8b845-7c38-4215-9338-11485ed1ba7a",
   "metadata": {},
   "outputs": [
    {
     "name": "stdout",
     "output_type": "stream",
     "text": [
      "Threshold adjusted based on F1...\n",
      "\n",
      "Accuracy score: 0.7686302342086586\n",
      "Precision score: 0.5487804878048781\n",
      "Recall score: 0.7219251336898396\n",
      "F1 score: 0.6235565819861433\n",
      "ROC-AUC score: 0.8370353147846754\n",
      "Average Precision Score: 0.6472563185095538\n"
     ]
    }
   ],
   "source": [
    "print('Threshold adjusted based on F1...\\n')\n",
    "print(f'Accuracy score: {accuracy_score(y_test, y_pred_adj_threshold_f1)}')\n",
    "print(f'Precision score: {precision_score(y_test, y_pred_adj_threshold_f1)}')\n",
    "print(f'Recall score: {recall_score(y_test, y_pred_adj_threshold_f1)}')\n",
    "print(f'F1 score: {f1_score(y_test, y_pred_adj_threshold_f1)}')\n",
    "print(f'ROC-AUC score: {roc_auc_score(y_test, eclf2.predict_proba(X_test)[:, 1])}')\n",
    "print(f'Average Precision Score: {average_precision_score(y_test, eclf2.predict_proba(X_test)[:, 1])}')"
   ]
  },
  {
   "cell_type": "code",
   "execution_count": 28,
   "id": "0b7bba57-4b13-41d4-984c-b6b04500c74c",
   "metadata": {},
   "outputs": [
    {
     "name": "stdout",
     "output_type": "stream",
     "text": [
      "Threshold adjusted based on FBeta (Recall 1.5x more important than Precision)...\n",
      "\n",
      "Accuracy score: 0.7047551454932577\n",
      "Precision score: 0.4688427299703264\n",
      "Recall score: 0.8449197860962567\n",
      "F1 score: 0.6030534351145038\n",
      "ROC-AUC score: 0.8370353147846754\n",
      "Average Precision Score: 0.6472563185095538\n"
     ]
    }
   ],
   "source": [
    "print('Threshold adjusted based on FBeta (Recall 1.5x more important than Precision)...\\n')\n",
    "print(f'Accuracy score: {accuracy_score(y_test, y_pred_adj_threshold_fbeta)}')\n",
    "print(f'Precision score: {precision_score(y_test, y_pred_adj_threshold_fbeta)}')\n",
    "print(f'Recall score: {recall_score(y_test, y_pred_adj_threshold_fbeta)}')\n",
    "print(f'F1 score: {f1_score(y_test, y_pred_adj_threshold_fbeta)}')\n",
    "print(f'ROC-AUC score: {roc_auc_score(y_test, eclf2.predict_proba(X_test)[:, 1])}')\n",
    "print(f'Average Precision Score: {average_precision_score(y_test, eclf2.predict_proba(X_test)[:, 1])}')"
   ]
  },
  {
   "cell_type": "code",
   "execution_count": 29,
   "id": "8b76c146-bdc6-425d-a9c1-a2e7aa5b2954",
   "metadata": {},
   "outputs": [
    {
     "name": "stdout",
     "output_type": "stream",
     "text": [
      "Threshold adjusted based on FBeta (Recall 1.8x more important than Precision)...\n",
      "\n",
      "Accuracy score: 0.6146202980837473\n",
      "Precision score: 0.40408626560726446\n",
      "Recall score: 0.9518716577540107\n",
      "F1 score: 0.5673306772908367\n",
      "ROC-AUC score: 0.8370353147846754\n",
      "Average Precision Score: 0.6472563185095538\n"
     ]
    }
   ],
   "source": [
    "print('Threshold adjusted based on FBeta (Recall 1.8x more important than Precision)...\\n')\n",
    "print(f'Accuracy score: {accuracy_score(y_test, y_pred_adj_threshold_fbeta1_8)}')\n",
    "print(f'Precision score: {precision_score(y_test, y_pred_adj_threshold_fbeta1_8)}')\n",
    "print(f'Recall score: {recall_score(y_test, y_pred_adj_threshold_fbeta1_8)}')\n",
    "print(f'F1 score: {f1_score(y_test, y_pred_adj_threshold_fbeta1_8)}')\n",
    "print(f'ROC-AUC score: {roc_auc_score(y_test, eclf2.predict_proba(X_test)[:, 1])}')\n",
    "print(f'Average Precision Score: {average_precision_score(y_test, eclf2.predict_proba(X_test)[:, 1])}')"
   ]
  },
  {
   "cell_type": "code",
   "execution_count": 30,
   "id": "ed3282ee-996d-446f-aea6-6422ce259a79",
   "metadata": {},
   "outputs": [
    {
     "data": {
      "image/png": "[encoded data removed]",
      "text/plain": [
       "<Figure size 800x550 with 2 Axes>"
      ]
     },
     "metadata": {},
     "output_type": "display_data"
    }
   ],
   "source": [
    "ConfusionMatrixDisplay(confusion_matrix(y_test, y_pred_adj_threshold_f1)).plot();"
   ]
  },
  {
   "cell_type": "code",
   "execution_count": 31,
   "id": "9c55bbb4-2e41-42a2-a89b-2a017721a7f5",
   "metadata": {},
   "outputs": [
    {
     "data": {
      "image/png": "[encoded data removed]",
      "text/plain": [
       "<Figure size 800x550 with 2 Axes>"
      ]
     },
     "metadata": {},
     "output_type": "display_data"
    }
   ],
   "source": [
    "ConfusionMatrixDisplay(confusion_matrix(y_test, y_pred_adj_threshold_fbeta)).plot();"
   ]
  },
  {
   "cell_type": "code",
   "execution_count": 32,
   "id": "8104470c-620e-4370-b1cb-fb4ef5019cfd",
   "metadata": {},
   "outputs": [
    {
     "data": {
      "image/png": "[encoded data removed]",
      "text/plain": [
       "<Figure size 800x550 with 2 Axes>"
      ]
     },
     "metadata": {},
     "output_type": "display_data"
    }
   ],
   "source": [
    "ConfusionMatrixDisplay(confusion_matrix(y_test, y_pred_adj_threshold_fbeta1_8)).plot();"
   ]
  },
  {
   "cell_type": "code",
   "execution_count": 33,
   "id": "ce9d34cf-269e-43a6-9194-c585841b969b",
   "metadata": {},
   "outputs": [
    {
     "data": {
      "text/plain": [
       "['best_model_telco_churn_voting_soft.joblib']"
      ]
     },
     "execution_count": 33,
     "metadata": {},
     "output_type": "execute_result"
    }
   ],
   "source": [
    "best_model = eclf1\n",
    "dump(best_model, 'best_model_telco_churn_voting_hard.joblib')\n",
    "best_model = eclf2\n",
    "dump(best_model, 'best_model_telco_churn_voting_soft.joblib')"
   ]
  }
 ],
 "metadata": {
  "kernelspec": {
   "display_name": "Python [conda env:newtelkomsel] *",
   "language": "python",
   "name": "conda-env-newtelkomsel-py"
  },
  "language_info": {
   "codemirror_mode": {
    "name": "ipython",
    "version": 3
   },
   "file_extension": ".py",
   "mimetype": "text/x-python",
   "name": "python",
   "nbconvert_exporter": "python",
   "pygments_lexer": "ipython3",
   "version": "3.9.18"
  }
 },
 "nbformat": 4,
 "nbformat_minor": 5
}
